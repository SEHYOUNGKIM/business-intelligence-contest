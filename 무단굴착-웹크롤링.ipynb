{
 "cells": [
  {
   "cell_type": "code",
   "execution_count": 1,
   "id": "ed55d985",
   "metadata": {},
   "outputs": [],
   "source": [
    "import selenium\n",
    "from selenium import webdriver\n",
    "from selenium.webdriver import ActionChains\n",
    "\n",
    "from selenium.webdriver.common.keys import Keys\n",
    "from selenium.webdriver.common.by import By\n",
    "\n",
    "from selenium.webdriver.support import expected_conditions as EC\n",
    "from selenium.webdriver.support.ui import Select\n",
    "from selenium.webdriver.support.ui import WebDriverWait"
   ]
  },
  {
   "cell_type": "code",
   "execution_count": 2,
   "id": "0ebf8dc7",
   "metadata": {},
   "outputs": [],
   "source": [
    "import pandas as pd"
   ]
  },
  {
   "cell_type": "code",
   "execution_count": 3,
   "id": "520db186",
   "metadata": {},
   "outputs": [],
   "source": [
    "# 드라이버 로드\n",
    "driver = webdriver.Chrome(executable_path='chromedriver')"
   ]
  },
  {
   "cell_type": "code",
   "execution_count": 4,
   "id": "9c460e0f",
   "metadata": {},
   "outputs": [],
   "source": [
    "# EOCS 홈페이지\n",
    "url = 'https://www.eocs.or.kr/jsp/center/qna/list.jsp'\n",
    "\n",
    "# 웹 페이지로 이동\n",
    "driver.get(url)"
   ]
  },
  {
   "cell_type": "code",
   "execution_count": 6,
   "id": "4c7ca829",
   "metadata": {},
   "outputs": [],
   "source": [
    "# 로그인\n",
    "driver.find_element(By.CSS_SELECTOR, '#userNo').send_keys('')\n",
    "driver.find_element(By.CSS_SELECTOR, '#passwd').send_keys('')\n",
    "\n",
    "driver.find_element(By.CSS_SELECTOR, '#content > div.login-area > form > div > button').click()"
   ]
  },
  {
   "cell_type": "code",
   "execution_count": 29,
   "id": "af31f168",
   "metadata": {},
   "outputs": [],
   "source": [
    "# EOCS 고객센터\n",
    "url = 'https://www.eocs.or.kr/jsp/center/qna/list.jsp'\n",
    "\n",
    "# 웹 페이지로 이동\n",
    "driver.get(url)"
   ]
  },
  {
   "cell_type": "code",
   "execution_count": 9,
   "id": "849838cc",
   "metadata": {},
   "outputs": [],
   "source": [
    "js_page = ['#content > div.pg-wrap > div > a:nth-child(4)',\n",
    "'#content > div.pg-wrap > div > a:nth-child(5)',\n",
    "'#content > div.pg-wrap > div > a:nth-child(6)',\n",
    "'#content > div.pg-wrap > div > a:nth-child(7)',\n",
    "'#content > div.pg-wrap > div > a:nth-child(8)',\n",
    "'#content > div.pg-wrap > div > a:nth-child(9)',\n",
    "'#content > div.pg-wrap > div > a:nth-child(10)',\n",
    "'#content > div.pg-wrap > div > a:nth-child(11)',\n",
    "'#content > div.pg-wrap > div > a:nth-child(12)',\n",
    "'#content > div.pg-wrap > div > a.page-btn.btn-next']"
   ]
  },
  {
   "cell_type": "code",
   "execution_count": 34,
   "id": "f2672ec7",
   "metadata": {},
   "outputs": [],
   "source": [
    "title = []\n",
    "view = []\n",
    "date = []\n",
    "content = []"
   ]
  },
  {
   "cell_type": "code",
   "execution_count": 35,
   "id": "5b6ad318",
   "metadata": {},
   "outputs": [],
   "source": [
    "for i in range(16):\n",
    "    for selector in js_page:\n",
    "        for num in range(10):\n",
    "            href = '#content > table > tbody > tr:nth-child('+str(num+1)+') > td.t-left > a'\n",
    "            driver.find_element(By.CSS_SELECTOR, href).click()\n",
    "            try:\n",
    "                title_text = driver.find_element(By.CSS_SELECTOR, '#content > div > div.view-head > p').text            \n",
    "                view_text = driver.find_element(By.CSS_SELECTOR, '#content > div > div.view-head > div:nth-child(2) > dl.info-item.f-right > dd').text\n",
    "                date_text = driver.find_element(By.CSS_SELECTOR, '#content > div > div.view-head > div:nth-child(2) > dl.info-item.f-left > dd').text\n",
    "                content_text = driver.find_element(By.CSS_SELECTOR, '#content > div > div.view-body').text\n",
    "\n",
    "                title.append(title_text)\n",
    "                view.append(view_text)\n",
    "                date.append(date_text)\n",
    "                content.append(content_text)\n",
    "            except:\n",
    "                print('오류')\n",
    "            \n",
    "            driver.find_element(By.CSS_SELECTOR, '#content > form > div > div > a').click()\n",
    "        driver.find_element(By.CSS_SELECTOR, selector).click()"
   ]
  },
  {
   "cell_type": "code",
   "execution_count": 37,
   "id": "9eeb5367",
   "metadata": {},
   "outputs": [],
   "source": [
    "df_dict = {'title': title,\n",
    "          'view': view,\n",
    "          'date': date,\n",
    "          'content': content}"
   ]
  },
  {
   "cell_type": "code",
   "execution_count": 39,
   "id": "227576a2",
   "metadata": {},
   "outputs": [],
   "source": [
    "df = pd.DataFrame(df_dict)"
   ]
  },
  {
   "cell_type": "code",
   "execution_count": 40,
   "id": "ad4634a7",
   "metadata": {},
   "outputs": [],
   "source": [
    "df.to_excel('eocs.xlsx')"
   ]
  }
 ],
 "metadata": {
  "kernelspec": {
   "display_name": "Python 3 (ipykernel)",
   "language": "python",
   "name": "python3"
  },
  "language_info": {
   "codemirror_mode": {
    "name": "ipython",
    "version": 3
   },
   "file_extension": ".py",
   "mimetype": "text/x-python",
   "name": "python",
   "nbconvert_exporter": "python",
   "pygments_lexer": "ipython3",
   "version": "3.10.9"
  }
 },
 "nbformat": 4,
 "nbformat_minor": 5
}

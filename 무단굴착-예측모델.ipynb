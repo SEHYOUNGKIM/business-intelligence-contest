{
 "cells": [
  {
   "cell_type": "code",
   "execution_count": 1,
   "id": "d4a185ef",
   "metadata": {},
   "outputs": [],
   "source": [
    "import pandas as pd\n",
    "import matplotlib.font_manager as fm\n",
    "import seaborn as sns\n",
    "\n",
    "from matplotlib import pyplot as plt\n",
    "\n",
    "plt.rc('font', family='NanumMyeongjo')"
   ]
  },
  {
   "cell_type": "code",
   "execution_count": 2,
   "id": "a71ad35e",
   "metadata": {},
   "outputs": [],
   "source": [
    "# 파일 읽기\n",
    "\n",
    "## 미신고굴착공사 관리현황\n",
    "df_1 = pd.read_excel('제11회 산업통상자원부 공공데이터 활용 BI공모전_빅데이터분석 과제 3_미신고굴착공사 관리현황.xlsx')"
   ]
  },
  {
   "cell_type": "code",
   "execution_count": 3,
   "id": "dc751412",
   "metadata": {},
   "outputs": [],
   "source": [
    "## 굴착공사 관리현황\n",
    "df_2 = pd.read_csv('제11회 산업통상자원부 공공데이터 활용 BI공모전_빅데이터분석 과제 3_굴착공사 관리현황.csv', encoding='CP949')"
   ]
  },
  {
   "cell_type": "code",
   "execution_count": 4,
   "id": "f1c65eee",
   "metadata": {},
   "outputs": [],
   "source": [
    "## EOCS 처리실적\n",
    "df_3 = pd.read_csv('제11회 산업통상자원부 공공데이터 활용 BI공모전_빅데이터분석 과제 3_EOCS 처리실적.csv', encoding='CP949')"
   ]
  },
  {
   "cell_type": "code",
   "execution_count": 5,
   "id": "f11d0b7d",
   "metadata": {},
   "outputs": [
    {
     "data": {
      "text/html": [
       "<div>\n",
       "<style scoped>\n",
       "    .dataframe tbody tr th:only-of-type {\n",
       "        vertical-align: middle;\n",
       "    }\n",
       "\n",
       "    .dataframe tbody tr th {\n",
       "        vertical-align: top;\n",
       "    }\n",
       "\n",
       "    .dataframe thead th {\n",
       "        text-align: right;\n",
       "    }\n",
       "</style>\n",
       "<table border=\"1\" class=\"dataframe\">\n",
       "  <thead>\n",
       "    <tr style=\"text-align: right;\">\n",
       "      <th></th>\n",
       "      <th>No</th>\n",
       "      <th>지사</th>\n",
       "      <th>공사구분</th>\n",
       "      <th>점검일자</th>\n",
       "      <th>행정구역(시,군)</th>\n",
       "      <th>공사종류</th>\n",
       "      <th>배관과의 이격거리(M)</th>\n",
       "    </tr>\n",
       "  </thead>\n",
       "  <tbody>\n",
       "    <tr>\n",
       "      <th>0</th>\n",
       "      <td>1</td>\n",
       "      <td>제주지사</td>\n",
       "      <td>미신고 굴착공사</td>\n",
       "      <td>2022-04-22</td>\n",
       "      <td>제주특별시</td>\n",
       "      <td>타공사_상수</td>\n",
       "      <td>0.5</td>\n",
       "    </tr>\n",
       "    <tr>\n",
       "      <th>1</th>\n",
       "      <td>2</td>\n",
       "      <td>서울지사</td>\n",
       "      <td>미신고 굴착공사</td>\n",
       "      <td>2022-08-22</td>\n",
       "      <td>경기도 고양시</td>\n",
       "      <td>타공사_전력</td>\n",
       "      <td>0.5</td>\n",
       "    </tr>\n",
       "    <tr>\n",
       "      <th>2</th>\n",
       "      <td>3</td>\n",
       "      <td>서울지사</td>\n",
       "      <td>미신고 굴착공사</td>\n",
       "      <td>2022-05-13</td>\n",
       "      <td>경기도 파주시</td>\n",
       "      <td>타공사_통신</td>\n",
       "      <td>2.0</td>\n",
       "    </tr>\n",
       "    <tr>\n",
       "      <th>3</th>\n",
       "      <td>4</td>\n",
       "      <td>서울지사</td>\n",
       "      <td>미신고 굴착공사</td>\n",
       "      <td>2022-03-12</td>\n",
       "      <td>경기도 파주시</td>\n",
       "      <td>기타</td>\n",
       "      <td>4.0</td>\n",
       "    </tr>\n",
       "    <tr>\n",
       "      <th>4</th>\n",
       "      <td>5</td>\n",
       "      <td>서울지사</td>\n",
       "      <td>미신고 굴착공사</td>\n",
       "      <td>2021-12-15</td>\n",
       "      <td>경기도 파주시</td>\n",
       "      <td>타공사_하수</td>\n",
       "      <td>0.3</td>\n",
       "    </tr>\n",
       "  </tbody>\n",
       "</table>\n",
       "</div>"
      ],
      "text/plain": [
       "   No    지사      공사구분        점검일자 행정구역(시,군)    공사종류  배관과의 이격거리(M)\n",
       "0   1  제주지사  미신고 굴착공사  2022-04-22     제주특별시  타공사_상수           0.5\n",
       "1   2  서울지사  미신고 굴착공사  2022-08-22   경기도 고양시  타공사_전력           0.5\n",
       "2   3  서울지사  미신고 굴착공사  2022-05-13   경기도 파주시  타공사_통신           2.0\n",
       "3   4  서울지사  미신고 굴착공사  2022-03-12   경기도 파주시      기타           4.0\n",
       "4   5  서울지사  미신고 굴착공사  2021-12-15   경기도 파주시  타공사_하수           0.3"
      ]
     },
     "execution_count": 5,
     "metadata": {},
     "output_type": "execute_result"
    }
   ],
   "source": [
    "df_1.head()"
   ]
  },
  {
   "cell_type": "code",
   "execution_count": 6,
   "id": "df72ad4c",
   "metadata": {},
   "outputs": [
    {
     "data": {
      "text/html": [
       "<div>\n",
       "<style scoped>\n",
       "    .dataframe tbody tr th:only-of-type {\n",
       "        vertical-align: middle;\n",
       "    }\n",
       "\n",
       "    .dataframe tbody tr th {\n",
       "        vertical-align: top;\n",
       "    }\n",
       "\n",
       "    .dataframe thead th {\n",
       "        text-align: right;\n",
       "    }\n",
       "</style>\n",
       "<table border=\"1\" class=\"dataframe\">\n",
       "  <thead>\n",
       "    <tr style=\"text-align: right;\">\n",
       "      <th></th>\n",
       "      <th>구     분</th>\n",
       "      <th>서울</th>\n",
       "      <th>인천</th>\n",
       "      <th>경기</th>\n",
       "      <th>강원</th>\n",
       "      <th>대전충청</th>\n",
       "      <th>전북</th>\n",
       "      <th>광주전남</th>\n",
       "      <th>대구경북</th>\n",
       "      <th>부산경남</th>\n",
       "      <th>제주기지지사</th>\n",
       "      <th>계</th>\n",
       "    </tr>\n",
       "  </thead>\n",
       "  <tbody>\n",
       "    <tr>\n",
       "      <th>0</th>\n",
       "      <td>배관연장 키로미터</td>\n",
       "      <td>422</td>\n",
       "      <td>274</td>\n",
       "      <td>538</td>\n",
       "      <td>700</td>\n",
       "      <td>489</td>\n",
       "      <td>552</td>\n",
       "      <td>585.0</td>\n",
       "      <td>771</td>\n",
       "      <td>690</td>\n",
       "      <td>84</td>\n",
       "      <td>5105</td>\n",
       "    </tr>\n",
       "    <tr>\n",
       "      <th>1</th>\n",
       "      <td>관로검사 구간수</td>\n",
       "      <td>7</td>\n",
       "      <td>4</td>\n",
       "      <td>9</td>\n",
       "      <td>9</td>\n",
       "      <td>7</td>\n",
       "      <td>8</td>\n",
       "      <td>9.0</td>\n",
       "      <td>11</td>\n",
       "      <td>11</td>\n",
       "      <td>1</td>\n",
       "      <td>76</td>\n",
       "    </tr>\n",
       "    <tr>\n",
       "      <th>2</th>\n",
       "      <td>인원관로검사</td>\n",
       "      <td>49</td>\n",
       "      <td>28</td>\n",
       "      <td>63</td>\n",
       "      <td>52</td>\n",
       "      <td>39</td>\n",
       "      <td>46</td>\n",
       "      <td>53.0</td>\n",
       "      <td>65</td>\n",
       "      <td>57</td>\n",
       "      <td>6</td>\n",
       "      <td>458</td>\n",
       "    </tr>\n",
       "    <tr>\n",
       "      <th>3</th>\n",
       "      <td>2022년 대규모</td>\n",
       "      <td>35</td>\n",
       "      <td>31</td>\n",
       "      <td>46</td>\n",
       "      <td>25</td>\n",
       "      <td>24</td>\n",
       "      <td>38</td>\n",
       "      <td>10.0</td>\n",
       "      <td>40</td>\n",
       "      <td>77</td>\n",
       "      <td>0</td>\n",
       "      <td>326</td>\n",
       "    </tr>\n",
       "    <tr>\n",
       "      <th>4</th>\n",
       "      <td>2022년 일 반</td>\n",
       "      <td>109</td>\n",
       "      <td>54</td>\n",
       "      <td>126</td>\n",
       "      <td>89</td>\n",
       "      <td>72</td>\n",
       "      <td>111</td>\n",
       "      <td>199.0</td>\n",
       "      <td>249</td>\n",
       "      <td>145</td>\n",
       "      <td>39</td>\n",
       "      <td>1193</td>\n",
       "    </tr>\n",
       "  </tbody>\n",
       "</table>\n",
       "</div>"
      ],
      "text/plain": [
       "     구     분   서울   인천   경기   강원  대전충청   전북   광주전남  대구경북  부산경남  제주기지지사     계\n",
       "0  배관연장 키로미터  422  274  538  700   489  552  585.0   771   690      84  5105\n",
       "1   관로검사 구간수    7    4    9    9     7    8    9.0    11    11       1    76\n",
       "2     인원관로검사   49   28   63   52    39   46   53.0    65    57       6   458\n",
       "3  2022년 대규모   35   31   46   25    24   38   10.0    40    77       0   326\n",
       "4  2022년 일 반  109   54  126   89    72  111  199.0   249   145      39  1193"
      ]
     },
     "execution_count": 6,
     "metadata": {},
     "output_type": "execute_result"
    }
   ],
   "source": [
    "df_2.head()"
   ]
  },
  {
   "cell_type": "code",
   "execution_count": 7,
   "id": "69096460",
   "metadata": {},
   "outputs": [
    {
     "data": {
      "text/html": [
       "<div>\n",
       "<style scoped>\n",
       "    .dataframe tbody tr th:only-of-type {\n",
       "        vertical-align: middle;\n",
       "    }\n",
       "\n",
       "    .dataframe tbody tr th {\n",
       "        vertical-align: top;\n",
       "    }\n",
       "\n",
       "    .dataframe thead th {\n",
       "        text-align: right;\n",
       "    }\n",
       "</style>\n",
       "<table border=\"1\" class=\"dataframe\">\n",
       "  <thead>\n",
       "    <tr style=\"text-align: right;\">\n",
       "      <th></th>\n",
       "      <th>구분</th>\n",
       "      <th>서울</th>\n",
       "      <th>인천</th>\n",
       "      <th>경기</th>\n",
       "      <th>강원</th>\n",
       "      <th>대전충청</th>\n",
       "      <th>전북</th>\n",
       "      <th>광주전남</th>\n",
       "      <th>대구경북</th>\n",
       "      <th>부산경남</th>\n",
       "      <th>제주</th>\n",
       "    </tr>\n",
       "  </thead>\n",
       "  <tbody>\n",
       "    <tr>\n",
       "      <th>0</th>\n",
       "      <td>2017년</td>\n",
       "      <td>32965</td>\n",
       "      <td>12163</td>\n",
       "      <td>8066</td>\n",
       "      <td>1773</td>\n",
       "      <td>5875</td>\n",
       "      <td>3273</td>\n",
       "      <td>4160</td>\n",
       "      <td>4467</td>\n",
       "      <td>11732</td>\n",
       "      <td>0</td>\n",
       "    </tr>\n",
       "    <tr>\n",
       "      <th>1</th>\n",
       "      <td>2018년</td>\n",
       "      <td>29203</td>\n",
       "      <td>11563</td>\n",
       "      <td>7937</td>\n",
       "      <td>1373</td>\n",
       "      <td>6422</td>\n",
       "      <td>3337</td>\n",
       "      <td>4841</td>\n",
       "      <td>4321</td>\n",
       "      <td>11743</td>\n",
       "      <td>0</td>\n",
       "    </tr>\n",
       "    <tr>\n",
       "      <th>2</th>\n",
       "      <td>2019년</td>\n",
       "      <td>35620</td>\n",
       "      <td>11369</td>\n",
       "      <td>2297</td>\n",
       "      <td>1446</td>\n",
       "      <td>5465</td>\n",
       "      <td>3125</td>\n",
       "      <td>4690</td>\n",
       "      <td>5342</td>\n",
       "      <td>13078</td>\n",
       "      <td>42</td>\n",
       "    </tr>\n",
       "    <tr>\n",
       "      <th>3</th>\n",
       "      <td>2020년</td>\n",
       "      <td>34280</td>\n",
       "      <td>11321</td>\n",
       "      <td>9110</td>\n",
       "      <td>1569</td>\n",
       "      <td>5479</td>\n",
       "      <td>3358</td>\n",
       "      <td>5511</td>\n",
       "      <td>5540</td>\n",
       "      <td>12364</td>\n",
       "      <td>93</td>\n",
       "    </tr>\n",
       "    <tr>\n",
       "      <th>4</th>\n",
       "      <td>2021년</td>\n",
       "      <td>43635</td>\n",
       "      <td>12591</td>\n",
       "      <td>10658</td>\n",
       "      <td>2854</td>\n",
       "      <td>7053</td>\n",
       "      <td>4124</td>\n",
       "      <td>6838</td>\n",
       "      <td>6740</td>\n",
       "      <td>14221</td>\n",
       "      <td>221</td>\n",
       "    </tr>\n",
       "  </tbody>\n",
       "</table>\n",
       "</div>"
      ],
      "text/plain": [
       "      구분     서울     인천     경기    강원  대전충청    전북  광주전남  대구경북   부산경남   제주\n",
       "0  2017년  32965  12163   8066  1773  5875  3273  4160  4467  11732    0\n",
       "1  2018년  29203  11563   7937  1373  6422  3337  4841  4321  11743    0\n",
       "2  2019년  35620  11369   2297  1446  5465  3125  4690  5342  13078   42\n",
       "3  2020년  34280  11321   9110  1569  5479  3358  5511  5540  12364   93\n",
       "4  2021년  43635  12591  10658  2854  7053  4124  6838  6740  14221  221"
      ]
     },
     "execution_count": 7,
     "metadata": {},
     "output_type": "execute_result"
    }
   ],
   "source": [
    "df_3.head()"
   ]
  },
  {
   "cell_type": "code",
   "execution_count": 8,
   "id": "f86df8ad",
   "metadata": {},
   "outputs": [],
   "source": [
    "# 지역별 시각화를 위해 행, 열 바꾸기\n",
    "\n",
    "df_2 = df_2.transpose()\n",
    "df_3 = df_3.transpose()"
   ]
  },
  {
   "cell_type": "code",
   "execution_count": 9,
   "id": "9b88d9cf",
   "metadata": {},
   "outputs": [],
   "source": [
    "# 첫 행을 열 이름으로 설정\n",
    "\n",
    "df_2 = df_2.rename(columns=df_2.iloc[0])\n",
    "df_3 = df_3.rename(columns=df_3.iloc[0])"
   ]
  },
  {
   "cell_type": "code",
   "execution_count": 10,
   "id": "83cffb8b",
   "metadata": {},
   "outputs": [],
   "source": [
    "# 설정 이후 삭제\n",
    "\n",
    "df_2 = df_2.drop(df_2.index[0])\n",
    "df_3 = df_3.drop(df_3.index[0])"
   ]
  },
  {
   "cell_type": "code",
   "execution_count": 11,
   "id": "8f53ebc2",
   "metadata": {},
   "outputs": [
    {
     "name": "stderr",
     "output_type": "stream",
     "text": [
      "<ipython-input-11-efc9d80a4948>:1: UserWarning: Pandas requires version '1.4.3' or newer of 'xlsxwriter' (version '1.4.0' currently installed).\n",
      "  df_2.to_excel('굴착공사 관리현황.xlsx')\n"
     ]
    }
   ],
   "source": [
    "df_2.to_excel('굴착공사 관리현황.xlsx')"
   ]
  },
  {
   "cell_type": "code",
   "execution_count": 12,
   "id": "a7261dd4",
   "metadata": {},
   "outputs": [
    {
     "name": "stderr",
     "output_type": "stream",
     "text": [
      "<ipython-input-12-39eb41c19d17>:1: UserWarning: Pandas requires version '1.4.3' or newer of 'xlsxwriter' (version '1.4.0' currently installed).\n",
      "  df_3.to_excel('EOCS 처리실적.xlsx')\n"
     ]
    }
   ],
   "source": [
    "df_3.to_excel('EOCS 처리실적.xlsx')"
   ]
  },
  {
   "cell_type": "code",
   "execution_count": 13,
   "id": "599510c1",
   "metadata": {},
   "outputs": [
    {
     "data": {
      "text/html": [
       "<div>\n",
       "<style scoped>\n",
       "    .dataframe tbody tr th:only-of-type {\n",
       "        vertical-align: middle;\n",
       "    }\n",
       "\n",
       "    .dataframe tbody tr th {\n",
       "        vertical-align: top;\n",
       "    }\n",
       "\n",
       "    .dataframe thead th {\n",
       "        text-align: right;\n",
       "    }\n",
       "</style>\n",
       "<table border=\"1\" class=\"dataframe\">\n",
       "  <thead>\n",
       "    <tr style=\"text-align: right;\">\n",
       "      <th></th>\n",
       "      <th>배관연장 키로미터</th>\n",
       "      <th>관로검사 구간수</th>\n",
       "      <th>인원관로검사</th>\n",
       "      <th>2022년 대규모</th>\n",
       "      <th>2022년 일 반</th>\n",
       "      <th>2022년 입회건수</th>\n",
       "      <th>2022년 입회시간</th>\n",
       "      <th>2022년 EOCS처리건수</th>\n",
       "      <th>대규모굴착공사- 도로</th>\n",
       "      <th>대규모굴착공사 -하수</th>\n",
       "      <th>...</th>\n",
       "      <th>일반 굴착공사-도로</th>\n",
       "      <th>일반 굴착공사-하수</th>\n",
       "      <th>일반 굴착공사-상수</th>\n",
       "      <th>일반 굴착공사-철도</th>\n",
       "      <th>일반 굴착공사-압력</th>\n",
       "      <th>일반 굴착공사-전력</th>\n",
       "      <th>일반 굴착공사-통신</th>\n",
       "      <th>일반 굴착공사-건축</th>\n",
       "      <th>일반 굴착공사-하천</th>\n",
       "      <th>일반 굴착공사-기타</th>\n",
       "    </tr>\n",
       "  </thead>\n",
       "  <tbody>\n",
       "    <tr>\n",
       "      <th>서울</th>\n",
       "      <td>422</td>\n",
       "      <td>7</td>\n",
       "      <td>49</td>\n",
       "      <td>35</td>\n",
       "      <td>109</td>\n",
       "      <td>116</td>\n",
       "      <td>2144</td>\n",
       "      <td>35760</td>\n",
       "      <td>7</td>\n",
       "      <td>2</td>\n",
       "      <td>...</td>\n",
       "      <td>6</td>\n",
       "      <td>2</td>\n",
       "      <td>3</td>\n",
       "      <td>0</td>\n",
       "      <td>4</td>\n",
       "      <td>0</td>\n",
       "      <td>0</td>\n",
       "      <td>1</td>\n",
       "      <td>0</td>\n",
       "      <td>6</td>\n",
       "    </tr>\n",
       "    <tr>\n",
       "      <th>인천</th>\n",
       "      <td>274</td>\n",
       "      <td>4</td>\n",
       "      <td>28</td>\n",
       "      <td>31</td>\n",
       "      <td>54</td>\n",
       "      <td>53</td>\n",
       "      <td>987</td>\n",
       "      <td>11650</td>\n",
       "      <td>6</td>\n",
       "      <td>0</td>\n",
       "      <td>...</td>\n",
       "      <td>3</td>\n",
       "      <td>0</td>\n",
       "      <td>1</td>\n",
       "      <td>0</td>\n",
       "      <td>1</td>\n",
       "      <td>0</td>\n",
       "      <td>0</td>\n",
       "      <td>1</td>\n",
       "      <td>1</td>\n",
       "      <td>0</td>\n",
       "    </tr>\n",
       "    <tr>\n",
       "      <th>경기</th>\n",
       "      <td>538</td>\n",
       "      <td>9</td>\n",
       "      <td>63</td>\n",
       "      <td>46</td>\n",
       "      <td>126</td>\n",
       "      <td>169</td>\n",
       "      <td>2561</td>\n",
       "      <td>10357</td>\n",
       "      <td>9</td>\n",
       "      <td>3</td>\n",
       "      <td>...</td>\n",
       "      <td>13</td>\n",
       "      <td>5</td>\n",
       "      <td>2</td>\n",
       "      <td>0</td>\n",
       "      <td>0</td>\n",
       "      <td>5</td>\n",
       "      <td>1</td>\n",
       "      <td>4</td>\n",
       "      <td>1</td>\n",
       "      <td>7</td>\n",
       "    </tr>\n",
       "    <tr>\n",
       "      <th>강원</th>\n",
       "      <td>700</td>\n",
       "      <td>9</td>\n",
       "      <td>52</td>\n",
       "      <td>25</td>\n",
       "      <td>89</td>\n",
       "      <td>88</td>\n",
       "      <td>1501</td>\n",
       "      <td>2563</td>\n",
       "      <td>5</td>\n",
       "      <td>2</td>\n",
       "      <td>...</td>\n",
       "      <td>7</td>\n",
       "      <td>7</td>\n",
       "      <td>5</td>\n",
       "      <td>0</td>\n",
       "      <td>4</td>\n",
       "      <td>1</td>\n",
       "      <td>1</td>\n",
       "      <td>0</td>\n",
       "      <td>1</td>\n",
       "      <td>8</td>\n",
       "    </tr>\n",
       "    <tr>\n",
       "      <th>대전충청</th>\n",
       "      <td>489</td>\n",
       "      <td>7</td>\n",
       "      <td>39</td>\n",
       "      <td>24</td>\n",
       "      <td>72</td>\n",
       "      <td>163</td>\n",
       "      <td>2272</td>\n",
       "      <td>6286</td>\n",
       "      <td>10</td>\n",
       "      <td>0</td>\n",
       "      <td>...</td>\n",
       "      <td>6</td>\n",
       "      <td>2</td>\n",
       "      <td>2</td>\n",
       "      <td>0</td>\n",
       "      <td>0</td>\n",
       "      <td>0</td>\n",
       "      <td>0</td>\n",
       "      <td>3</td>\n",
       "      <td>2</td>\n",
       "      <td>1</td>\n",
       "    </tr>\n",
       "    <tr>\n",
       "      <th>전북</th>\n",
       "      <td>552</td>\n",
       "      <td>8</td>\n",
       "      <td>46</td>\n",
       "      <td>38</td>\n",
       "      <td>111</td>\n",
       "      <td>119</td>\n",
       "      <td>2015</td>\n",
       "      <td>4436</td>\n",
       "      <td>4</td>\n",
       "      <td>6</td>\n",
       "      <td>...</td>\n",
       "      <td>6</td>\n",
       "      <td>2</td>\n",
       "      <td>3</td>\n",
       "      <td>1</td>\n",
       "      <td>0</td>\n",
       "      <td>0</td>\n",
       "      <td>1</td>\n",
       "      <td>1</td>\n",
       "      <td>2</td>\n",
       "      <td>2</td>\n",
       "    </tr>\n",
       "    <tr>\n",
       "      <th>광주전남</th>\n",
       "      <td>585.0</td>\n",
       "      <td>9.0</td>\n",
       "      <td>53.0</td>\n",
       "      <td>10.0</td>\n",
       "      <td>199.0</td>\n",
       "      <td>177.0</td>\n",
       "      <td>2076.0</td>\n",
       "      <td>6802.0</td>\n",
       "      <td>4.0</td>\n",
       "      <td>0.0</td>\n",
       "      <td>...</td>\n",
       "      <td>10.0</td>\n",
       "      <td>2.0</td>\n",
       "      <td>2.0</td>\n",
       "      <td>3.0</td>\n",
       "      <td>0.0</td>\n",
       "      <td>1.0</td>\n",
       "      <td>0.0</td>\n",
       "      <td>3.0</td>\n",
       "      <td>5.0</td>\n",
       "      <td>3.0</td>\n",
       "    </tr>\n",
       "    <tr>\n",
       "      <th>대구경북</th>\n",
       "      <td>771</td>\n",
       "      <td>11</td>\n",
       "      <td>65</td>\n",
       "      <td>40</td>\n",
       "      <td>249</td>\n",
       "      <td>293</td>\n",
       "      <td>4111</td>\n",
       "      <td>5966</td>\n",
       "      <td>12</td>\n",
       "      <td>5</td>\n",
       "      <td>...</td>\n",
       "      <td>5</td>\n",
       "      <td>3</td>\n",
       "      <td>9</td>\n",
       "      <td>1</td>\n",
       "      <td>0</td>\n",
       "      <td>4</td>\n",
       "      <td>0</td>\n",
       "      <td>1</td>\n",
       "      <td>3</td>\n",
       "      <td>1</td>\n",
       "    </tr>\n",
       "    <tr>\n",
       "      <th>부산경남</th>\n",
       "      <td>690</td>\n",
       "      <td>11</td>\n",
       "      <td>57</td>\n",
       "      <td>77</td>\n",
       "      <td>145</td>\n",
       "      <td>336</td>\n",
       "      <td>3958</td>\n",
       "      <td>13844</td>\n",
       "      <td>19</td>\n",
       "      <td>9</td>\n",
       "      <td>...</td>\n",
       "      <td>0</td>\n",
       "      <td>5</td>\n",
       "      <td>3</td>\n",
       "      <td>0</td>\n",
       "      <td>0</td>\n",
       "      <td>0</td>\n",
       "      <td>0</td>\n",
       "      <td>0</td>\n",
       "      <td>2</td>\n",
       "      <td>2</td>\n",
       "    </tr>\n",
       "    <tr>\n",
       "      <th>제주기지지사</th>\n",
       "      <td>84</td>\n",
       "      <td>1</td>\n",
       "      <td>6</td>\n",
       "      <td>0</td>\n",
       "      <td>39</td>\n",
       "      <td>33</td>\n",
       "      <td>623</td>\n",
       "      <td>244</td>\n",
       "      <td>0</td>\n",
       "      <td>0</td>\n",
       "      <td>...</td>\n",
       "      <td>0</td>\n",
       "      <td>0</td>\n",
       "      <td>0</td>\n",
       "      <td>0</td>\n",
       "      <td>0</td>\n",
       "      <td>0</td>\n",
       "      <td>0</td>\n",
       "      <td>0</td>\n",
       "      <td>0</td>\n",
       "      <td>0</td>\n",
       "    </tr>\n",
       "    <tr>\n",
       "      <th>계</th>\n",
       "      <td>5105</td>\n",
       "      <td>76</td>\n",
       "      <td>458</td>\n",
       "      <td>326</td>\n",
       "      <td>1193</td>\n",
       "      <td>1547</td>\n",
       "      <td>22248</td>\n",
       "      <td>97908</td>\n",
       "      <td>76</td>\n",
       "      <td>27</td>\n",
       "      <td>...</td>\n",
       "      <td>56</td>\n",
       "      <td>28</td>\n",
       "      <td>30</td>\n",
       "      <td>5</td>\n",
       "      <td>9</td>\n",
       "      <td>11</td>\n",
       "      <td>3</td>\n",
       "      <td>14</td>\n",
       "      <td>17</td>\n",
       "      <td>30</td>\n",
       "    </tr>\n",
       "  </tbody>\n",
       "</table>\n",
       "<p>11 rows × 28 columns</p>\n",
       "</div>"
      ],
      "text/plain": [
       "       배관연장 키로미터 관로검사 구간수 인원관로검사 2022년 대규모 2022년 일 반 2022년 입회건수 2022년 입회시간  \\\n",
       "서울           422        7     49        35       109        116       2144   \n",
       "인천           274        4     28        31        54         53        987   \n",
       "경기           538        9     63        46       126        169       2561   \n",
       "강원           700        9     52        25        89         88       1501   \n",
       "대전충청         489        7     39        24        72        163       2272   \n",
       "전북           552        8     46        38       111        119       2015   \n",
       "광주전남       585.0      9.0   53.0      10.0     199.0      177.0     2076.0   \n",
       "대구경북         771       11     65        40       249        293       4111   \n",
       "부산경남         690       11     57        77       145        336       3958   \n",
       "제주기지지사        84        1      6         0        39         33        623   \n",
       "계           5105       76    458       326      1193       1547      22248   \n",
       "\n",
       "       2022년 EOCS처리건수 대규모굴착공사- 도로 대규모굴착공사 -하수  ... 일반 굴착공사-도로 일반 굴착공사-하수  \\\n",
       "서울              35760           7           2  ...          6          2   \n",
       "인천              11650           6           0  ...          3          0   \n",
       "경기              10357           9           3  ...         13          5   \n",
       "강원               2563           5           2  ...          7          7   \n",
       "대전충청             6286          10           0  ...          6          2   \n",
       "전북               4436           4           6  ...          6          2   \n",
       "광주전남           6802.0         4.0         0.0  ...       10.0        2.0   \n",
       "대구경북             5966          12           5  ...          5          3   \n",
       "부산경남            13844          19           9  ...          0          5   \n",
       "제주기지지사            244           0           0  ...          0          0   \n",
       "계               97908          76          27  ...         56         28   \n",
       "\n",
       "       일반 굴착공사-상수 일반 굴착공사-철도 일반 굴착공사-압력 일반 굴착공사-전력 일반 굴착공사-통신 일반 굴착공사-건축  \\\n",
       "서울              3          0          4          0          0          1   \n",
       "인천              1          0          1          0          0          1   \n",
       "경기              2          0          0          5          1          4   \n",
       "강원              5          0          4          1          1          0   \n",
       "대전충청            2          0          0          0          0          3   \n",
       "전북              3          1          0          0          1          1   \n",
       "광주전남          2.0        3.0        0.0        1.0        0.0        3.0   \n",
       "대구경북            9          1          0          4          0          1   \n",
       "부산경남            3          0          0          0          0          0   \n",
       "제주기지지사          0          0          0          0          0          0   \n",
       "계              30          5          9         11          3         14   \n",
       "\n",
       "       일반 굴착공사-하천 일반 굴착공사-기타  \n",
       "서울              0          6  \n",
       "인천              1          0  \n",
       "경기              1          7  \n",
       "강원              1          8  \n",
       "대전충청            2          1  \n",
       "전북              2          2  \n",
       "광주전남          5.0        3.0  \n",
       "대구경북            3          1  \n",
       "부산경남            2          2  \n",
       "제주기지지사          0          0  \n",
       "계              17         30  \n",
       "\n",
       "[11 rows x 28 columns]"
      ]
     },
     "execution_count": 13,
     "metadata": {},
     "output_type": "execute_result"
    }
   ],
   "source": [
    "df_2"
   ]
  },
  {
   "cell_type": "markdown",
   "id": "6f690450",
   "metadata": {},
   "source": [
    "##### EOCS 시각화(EOCS : Excavation One-Call System)\n",
    "\n",
    "*EOCS란 구멍 뚫기, 말뚝 박기, 터파기 그 밖의 토지의 굴착공사를 하는 자와 도시가스·고압가스·LP가스 사업자가 전화 또는 인터넷 등을 통하여 가스관련법에서 정하는 절차에 따라 굴착공사에 관한 정보와 가스배관 매설 정보를 주고 받음으로써 가스배관의 파손사고를 예방하기 위한 안전조치의 이행을 담보하는 시스템.*"
   ]
  },
  {
   "cell_type": "code",
   "execution_count": 14,
   "id": "8d426ec6",
   "metadata": {},
   "outputs": [
    {
     "data": {
      "image/png": "[encoded data removed]",
      "text/plain": [
       "<Figure size 720x432 with 1 Axes>"
      ]
     },
     "metadata": {
      "needs_background": "light"
     },
     "output_type": "display_data"
    }
   ],
   "source": [
    "# 서울 EOCS\n",
    "plt.figure(figsize=(10,6))\n",
    "\n",
    "sns.lineplot(x=['2017년', '2018년', '2019년', '2020년', '2021년', '2022년'], y=df_3.iloc[0,:], \n",
    "             color='#008B8B', # 색상\n",
    "             marker='o') # 마커\n",
    "plt.show()"
   ]
  },
  {
   "cell_type": "code",
   "execution_count": 15,
   "id": "41d2bb55",
   "metadata": {},
   "outputs": [
    {
     "data": {
      "image/png": "[encoded data removed]",
      "text/plain": [
       "<Figure size 720x432 with 1 Axes>"
      ]
     },
     "metadata": {
      "needs_background": "light"
     },
     "output_type": "display_data"
    }
   ],
   "source": [
    "# 인천 EOCS\n",
    "plt.figure(figsize=(10,6))\n",
    "\n",
    "sns.lineplot(x=['2017년', '2018년', '2019년', '2020년', '2021년', '2022년'], y=df_3.iloc[1,:], \n",
    "             color='#4169E1', # 색상\n",
    "             marker='o') # 마커\n",
    "\n",
    "plt.show()"
   ]
  },
  {
   "cell_type": "code",
   "execution_count": 16,
   "id": "6bd08712",
   "metadata": {},
   "outputs": [
    {
     "data": {
      "image/png": "[encoded data removed]",
      "text/plain": [
       "<Figure size 720x432 with 1 Axes>"
      ]
     },
     "metadata": {
      "needs_background": "light"
     },
     "output_type": "display_data"
    }
   ],
   "source": [
    "# 경기 EOCS\n",
    "plt.figure(figsize=(10,6))\n",
    "\n",
    "sns.lineplot(x=['2017년', '2018년', '2019년', '2020년', '2021년', '2022년'], y=df_3.iloc[2,:], \n",
    "             color='#6A5ACD', # 색상\n",
    "             marker='o') # 마커\n",
    "\n",
    "plt.show()"
   ]
  },
  {
   "cell_type": "code",
   "execution_count": 17,
   "id": "67368c38",
   "metadata": {},
   "outputs": [
    {
     "data": {
      "image/png": "[encoded data removed]",
      "text/plain": [
       "<Figure size 720x432 with 1 Axes>"
      ]
     },
     "metadata": {
      "needs_background": "light"
     },
     "output_type": "display_data"
    }
   ],
   "source": [
    "# 강원 EOCS\n",
    "plt.figure(figsize=(10,6))\n",
    "\n",
    "sns.lineplot(x=['2017년', '2018년', '2019년', '2020년', '2021년', '2022년'], y=df_3.iloc[3,:], \n",
    "             color='#DDA0DD', # 색상\n",
    "             marker='o') # 마커\n",
    "\n",
    "plt.show()"
   ]
  },
  {
   "cell_type": "code",
   "execution_count": 18,
   "id": "66ce6ec2",
   "metadata": {},
   "outputs": [
    {
     "data": {
      "image/png": "[encoded data removed]",
      "text/plain": [
       "<Figure size 720x432 with 1 Axes>"
      ]
     },
     "metadata": {
      "needs_background": "light"
     },
     "output_type": "display_data"
    }
   ],
   "source": [
    "# 대전충청 EOCS\n",
    "plt.figure(figsize=(10,6))\n",
    "\n",
    "sns.lineplot(x=['2017년', '2018년', '2019년', '2020년', '2021년', '2022년'], y=df_3.iloc[4,:], \n",
    "             color='#DB7093', # 색상\n",
    "             marker='o') # 마커\n",
    "\n",
    "plt.show()"
   ]
  },
  {
   "cell_type": "code",
   "execution_count": 19,
   "id": "23f63d51",
   "metadata": {},
   "outputs": [
    {
     "data": {
      "image/png": "[encoded data removed]",
      "text/plain": [
       "<Figure size 720x432 with 1 Axes>"
      ]
     },
     "metadata": {
      "needs_background": "light"
     },
     "output_type": "display_data"
    }
   ],
   "source": [
    "# 전북 EOCS\n",
    "plt.figure(figsize=(10,6))\n",
    "\n",
    "sns.lineplot(x=['2017년', '2018년', '2019년', '2020년', '2021년', '2022년'], y=df_3.iloc[5,:], \n",
    "             color='#2E8B57', # 색상\n",
    "             marker='o') # 마커\n",
    "\n",
    "plt.show()"
   ]
  },
  {
   "cell_type": "code",
   "execution_count": 20,
   "id": "aa43bf03",
   "metadata": {},
   "outputs": [
    {
     "data": {
      "image/png": "[encoded data removed]",
      "text/plain": [
       "<Figure size 720x432 with 1 Axes>"
      ]
     },
     "metadata": {
      "needs_background": "light"
     },
     "output_type": "display_data"
    }
   ],
   "source": [
    "# 광주전남 EOCS\n",
    "plt.figure(figsize=(10,6))\n",
    "\n",
    "sns.lineplot(x=['2017년', '2018년', '2019년', '2020년', '2021년', '2022년'], y=df_3.iloc[6,:], \n",
    "             color='#808080', # 색상\n",
    "             marker='o') # 마커\n",
    "\n",
    "plt.show()"
   ]
  },
  {
   "cell_type": "code",
   "execution_count": 21,
   "id": "760f6706",
   "metadata": {},
   "outputs": [
    {
     "data": {
      "image/png": "[encoded data removed]",
      "text/plain": [
       "<Figure size 720x432 with 1 Axes>"
      ]
     },
     "metadata": {
      "needs_background": "light"
     },
     "output_type": "display_data"
    }
   ],
   "source": [
    "# 대구경북 EOCS\n",
    "plt.figure(figsize=(10,6))\n",
    "\n",
    "sns.lineplot(x=['2017년', '2018년', '2019년', '2020년', '2021년', '2022년'], y=df_3.iloc[7,:], \n",
    "             color='#FFD700', # 색상\n",
    "             marker='o') # 마커\n",
    "\n",
    "plt.show()"
   ]
  },
  {
   "cell_type": "code",
   "execution_count": 22,
   "id": "09210998",
   "metadata": {},
   "outputs": [
    {
     "data": {
      "image/png": "[encoded data removed]",
      "text/plain": [
       "<Figure size 720x432 with 1 Axes>"
      ]
     },
     "metadata": {
      "needs_background": "light"
     },
     "output_type": "display_data"
    }
   ],
   "source": [
    "# 부산경남 EOCS\n",
    "plt.figure(figsize=(10,6))\n",
    "\n",
    "sns.lineplot(x=['2017년', '2018년', '2019년', '2020년', '2021년', '2022년'], y=df_3.iloc[8,:], \n",
    "             color='#ADFF2F', # 색상\n",
    "             marker='o') # 마커\n",
    "\n",
    "plt.show()"
   ]
  },
  {
   "cell_type": "code",
   "execution_count": 23,
   "id": "64e595dd",
   "metadata": {},
   "outputs": [
    {
     "data": {
      "image/png": "[encoded data removed]",
      "text/plain": [
       "<Figure size 720x432 with 1 Axes>"
      ]
     },
     "metadata": {
      "needs_background": "light"
     },
     "output_type": "display_data"
    }
   ],
   "source": [
    "# 제주 EOCS\n",
    "plt.figure(figsize=(10,6))\n",
    "\n",
    "sns.lineplot(x=['2017년', '2018년', '2019년', '2020년', '2021년', '2022년'], y=df_3.iloc[9,:], \n",
    "             color='#FF4500', # 색상\n",
    "             marker='o') # 마커\n",
    "\n",
    "plt.show()"
   ]
  },
  {
   "cell_type": "markdown",
   "id": "19e7d539",
   "metadata": {},
   "source": [
    "##### 미신고 굴착공사 관리현황"
   ]
  },
  {
   "cell_type": "code",
   "execution_count": 24,
   "id": "e39228c8",
   "metadata": {},
   "outputs": [],
   "source": [
    "# 미신고 굴착공사\n",
    "df_1_a = df_1[df_1['공사구분'] == '미신고 굴착공사']\n",
    "\n",
    "# 미신고 굴착공사 예방활동\n",
    "df_1_b = df_1[df_1['공사구분'] == '미신고 굴착공사 예방활동']"
   ]
  },
  {
   "cell_type": "code",
   "execution_count": 25,
   "id": "92eb3ed1",
   "metadata": {},
   "outputs": [
    {
     "data": {
      "text/html": [
       "<div>\n",
       "<style scoped>\n",
       "    .dataframe tbody tr th:only-of-type {\n",
       "        vertical-align: middle;\n",
       "    }\n",
       "\n",
       "    .dataframe tbody tr th {\n",
       "        vertical-align: top;\n",
       "    }\n",
       "\n",
       "    .dataframe thead th {\n",
       "        text-align: right;\n",
       "    }\n",
       "</style>\n",
       "<table border=\"1\" class=\"dataframe\">\n",
       "  <thead>\n",
       "    <tr style=\"text-align: right;\">\n",
       "      <th></th>\n",
       "      <th>No</th>\n",
       "      <th>지사</th>\n",
       "      <th>공사구분</th>\n",
       "      <th>점검일자</th>\n",
       "      <th>행정구역(시,군)</th>\n",
       "      <th>공사종류</th>\n",
       "      <th>배관과의 이격거리(M)</th>\n",
       "    </tr>\n",
       "  </thead>\n",
       "  <tbody>\n",
       "    <tr>\n",
       "      <th>0</th>\n",
       "      <td>1</td>\n",
       "      <td>제주지사</td>\n",
       "      <td>미신고 굴착공사</td>\n",
       "      <td>2022-04-22</td>\n",
       "      <td>제주특별시</td>\n",
       "      <td>타공사_상수</td>\n",
       "      <td>0.5</td>\n",
       "    </tr>\n",
       "    <tr>\n",
       "      <th>1</th>\n",
       "      <td>2</td>\n",
       "      <td>서울지사</td>\n",
       "      <td>미신고 굴착공사</td>\n",
       "      <td>2022-08-22</td>\n",
       "      <td>경기도 고양시</td>\n",
       "      <td>타공사_전력</td>\n",
       "      <td>0.5</td>\n",
       "    </tr>\n",
       "    <tr>\n",
       "      <th>2</th>\n",
       "      <td>3</td>\n",
       "      <td>서울지사</td>\n",
       "      <td>미신고 굴착공사</td>\n",
       "      <td>2022-05-13</td>\n",
       "      <td>경기도 파주시</td>\n",
       "      <td>타공사_통신</td>\n",
       "      <td>2.0</td>\n",
       "    </tr>\n",
       "    <tr>\n",
       "      <th>3</th>\n",
       "      <td>4</td>\n",
       "      <td>서울지사</td>\n",
       "      <td>미신고 굴착공사</td>\n",
       "      <td>2022-03-12</td>\n",
       "      <td>경기도 파주시</td>\n",
       "      <td>기타</td>\n",
       "      <td>4.0</td>\n",
       "    </tr>\n",
       "    <tr>\n",
       "      <th>4</th>\n",
       "      <td>5</td>\n",
       "      <td>서울지사</td>\n",
       "      <td>미신고 굴착공사</td>\n",
       "      <td>2021-12-15</td>\n",
       "      <td>경기도 파주시</td>\n",
       "      <td>타공사_하수</td>\n",
       "      <td>0.3</td>\n",
       "    </tr>\n",
       "  </tbody>\n",
       "</table>\n",
       "</div>"
      ],
      "text/plain": [
       "   No    지사      공사구분        점검일자 행정구역(시,군)    공사종류  배관과의 이격거리(M)\n",
       "0   1  제주지사  미신고 굴착공사  2022-04-22     제주특별시  타공사_상수           0.5\n",
       "1   2  서울지사  미신고 굴착공사  2022-08-22   경기도 고양시  타공사_전력           0.5\n",
       "2   3  서울지사  미신고 굴착공사  2022-05-13   경기도 파주시  타공사_통신           2.0\n",
       "3   4  서울지사  미신고 굴착공사  2022-03-12   경기도 파주시      기타           4.0\n",
       "4   5  서울지사  미신고 굴착공사  2021-12-15   경기도 파주시  타공사_하수           0.3"
      ]
     },
     "execution_count": 25,
     "metadata": {},
     "output_type": "execute_result"
    }
   ],
   "source": [
    "df_1_a.head()"
   ]
  },
  {
   "cell_type": "code",
   "execution_count": 88,
   "id": "e8c104ab",
   "metadata": {},
   "outputs": [
    {
     "data": {
      "text/plain": [
       "<AxesSubplot:xlabel='배관과의 이격거리(M)', ylabel='Count'>"
      ]
     },
     "execution_count": 88,
     "metadata": {},
     "output_type": "execute_result"
    },
    {
     "data": {
      "image/png": "[encoded data removed]",
      "text/plain": [
       "<Figure size 432x288 with 1 Axes>"
      ]
     },
     "metadata": {
      "needs_background": "light"
     },
     "output_type": "display_data"
    }
   ],
   "source": [
    "sns.histplot(df_1['배관과의 이격거리(M)'], bins=100)"
   ]
  },
  {
   "cell_type": "code",
   "execution_count": 26,
   "id": "fe2c1e6c",
   "metadata": {},
   "outputs": [
    {
     "data": {
      "text/plain": [
       "<AxesSubplot:xlabel='배관과의 이격거리(M)', ylabel='Count'>"
      ]
     },
     "execution_count": 26,
     "metadata": {},
     "output_type": "execute_result"
    },
    {
     "data": {
      "image/png": "[encoded data removed]",
      "text/plain": [
       "<Figure size 432x288 with 1 Axes>"
      ]
     },
     "metadata": {
      "needs_background": "light"
     },
     "output_type": "display_data"
    }
   ],
   "source": [
    "sns.histplot(df_1_a['배관과의 이격거리(M)'], bins=100)"
   ]
  },
  {
   "cell_type": "code",
   "execution_count": 27,
   "id": "5315cfd8",
   "metadata": {},
   "outputs": [
    {
     "data": {
      "text/plain": [
       "<AxesSubplot:xlabel='배관과의 이격거리(M)', ylabel='Count'>"
      ]
     },
     "execution_count": 27,
     "metadata": {},
     "output_type": "execute_result"
    },
    {
     "data": {
      "image/png": "[encoded data removed]",
      "text/plain": [
       "<Figure size 432x288 with 1 Axes>"
      ]
     },
     "metadata": {
      "needs_background": "light"
     },
     "output_type": "display_data"
    }
   ],
   "source": [
    "sns.histplot(df_1_b['배관과의 이격거리(M)'], bins=100)"
   ]
  },
  {
   "cell_type": "code",
   "execution_count": 28,
   "id": "bb17e54f",
   "metadata": {},
   "outputs": [
    {
     "data": {
      "text/plain": [
       "대전충청지사    80\n",
       "광주전남지사    50\n",
       "부산경남지사    27\n",
       "대구경북지사    17\n",
       "경기지사      13\n",
       "인천지사      13\n",
       "서울지사      11\n",
       "강원지사      10\n",
       "전북지사       2\n",
       "제주지사       1\n",
       "Name: 지사, dtype: int64"
      ]
     },
     "execution_count": 28,
     "metadata": {},
     "output_type": "execute_result"
    }
   ],
   "source": [
    "# 지사별 평균 비교\n",
    "\n",
    "# 지사별 개수\n",
    "df_1['지사'].value_counts()"
   ]
  },
  {
   "cell_type": "code",
   "execution_count": 29,
   "id": "78a6e365",
   "metadata": {},
   "outputs": [],
   "source": [
    "# 배관과의 평균 이격거리(M)\n",
    "\n",
    "average_dist_a = df_1_a.groupby(['지사']).mean('배관과의 이격거리(M)').reset_index().iloc[:, [0,2]]\n",
    "average_dist_b = df_1_b.groupby(['지사']).mean('배관과의 이격거리(M)').reset_index().iloc[:, [0,2]]"
   ]
  },
  {
   "cell_type": "code",
   "execution_count": 30,
   "id": "cced822b",
   "metadata": {},
   "outputs": [],
   "source": [
    "average_dist_a['횟수'] = df_1_a.groupby(['지사']).count().reset_index().iloc[:, 1]\n",
    "average_dist_b['횟수'] = df_1_b.groupby(['지사']).count().reset_index().iloc[:, 1]"
   ]
  },
  {
   "cell_type": "code",
   "execution_count": 31,
   "id": "a1b5a760",
   "metadata": {},
   "outputs": [
    {
     "data": {
      "text/html": [
       "<div>\n",
       "<style scoped>\n",
       "    .dataframe tbody tr th:only-of-type {\n",
       "        vertical-align: middle;\n",
       "    }\n",
       "\n",
       "    .dataframe tbody tr th {\n",
       "        vertical-align: top;\n",
       "    }\n",
       "\n",
       "    .dataframe thead th {\n",
       "        text-align: right;\n",
       "    }\n",
       "</style>\n",
       "<table border=\"1\" class=\"dataframe\">\n",
       "  <thead>\n",
       "    <tr style=\"text-align: right;\">\n",
       "      <th></th>\n",
       "      <th>지사</th>\n",
       "      <th>배관과의 이격거리(M)</th>\n",
       "      <th>횟수</th>\n",
       "    </tr>\n",
       "  </thead>\n",
       "  <tbody>\n",
       "    <tr>\n",
       "      <th>0</th>\n",
       "      <td>강원지사</td>\n",
       "      <td>12.000000</td>\n",
       "      <td>1</td>\n",
       "    </tr>\n",
       "    <tr>\n",
       "      <th>1</th>\n",
       "      <td>경기지사</td>\n",
       "      <td>2.000000</td>\n",
       "      <td>1</td>\n",
       "    </tr>\n",
       "    <tr>\n",
       "      <th>2</th>\n",
       "      <td>광주전남지사</td>\n",
       "      <td>21.477273</td>\n",
       "      <td>22</td>\n",
       "    </tr>\n",
       "    <tr>\n",
       "      <th>3</th>\n",
       "      <td>대구경북지사</td>\n",
       "      <td>12.157143</td>\n",
       "      <td>7</td>\n",
       "    </tr>\n",
       "    <tr>\n",
       "      <th>4</th>\n",
       "      <td>대전충청지사</td>\n",
       "      <td>5.080000</td>\n",
       "      <td>15</td>\n",
       "    </tr>\n",
       "    <tr>\n",
       "      <th>5</th>\n",
       "      <td>부산경남지사</td>\n",
       "      <td>2.816667</td>\n",
       "      <td>6</td>\n",
       "    </tr>\n",
       "    <tr>\n",
       "      <th>6</th>\n",
       "      <td>서울지사</td>\n",
       "      <td>1.628571</td>\n",
       "      <td>7</td>\n",
       "    </tr>\n",
       "    <tr>\n",
       "      <th>7</th>\n",
       "      <td>인천지사</td>\n",
       "      <td>1.744444</td>\n",
       "      <td>9</td>\n",
       "    </tr>\n",
       "    <tr>\n",
       "      <th>8</th>\n",
       "      <td>제주지사</td>\n",
       "      <td>0.500000</td>\n",
       "      <td>1</td>\n",
       "    </tr>\n",
       "  </tbody>\n",
       "</table>\n",
       "</div>"
      ],
      "text/plain": [
       "       지사  배관과의 이격거리(M)  횟수\n",
       "0    강원지사     12.000000   1\n",
       "1    경기지사      2.000000   1\n",
       "2  광주전남지사     21.477273  22\n",
       "3  대구경북지사     12.157143   7\n",
       "4  대전충청지사      5.080000  15\n",
       "5  부산경남지사      2.816667   6\n",
       "6    서울지사      1.628571   7\n",
       "7    인천지사      1.744444   9\n",
       "8    제주지사      0.500000   1"
      ]
     },
     "execution_count": 31,
     "metadata": {},
     "output_type": "execute_result"
    }
   ],
   "source": [
    "# 미신고 굴착공사\n",
    "average_dist_a"
   ]
  },
  {
   "cell_type": "code",
   "execution_count": 83,
   "id": "9762c481",
   "metadata": {},
   "outputs": [
    {
     "data": {
      "text/plain": [
       "<AxesSubplot:xlabel='배관과의 이격거리(M)', ylabel='지사'>"
      ]
     },
     "execution_count": 83,
     "metadata": {},
     "output_type": "execute_result"
    },
    {
     "data": {
      "image/png": "[encoded data removed]",
      "text/plain": [
       "<Figure size 432x288 with 1 Axes>"
      ]
     },
     "metadata": {
      "needs_background": "light"
     },
     "output_type": "display_data"
    }
   ],
   "source": [
    "sns.barplot(y=average_dist_a['지사'], x=average_dist_a['배관과의 이격거리(M)'])"
   ]
  },
  {
   "cell_type": "code",
   "execution_count": 84,
   "id": "68b080b7",
   "metadata": {},
   "outputs": [
    {
     "data": {
      "text/plain": [
       "<AxesSubplot:xlabel='횟수', ylabel='지사'>"
      ]
     },
     "execution_count": 84,
     "metadata": {},
     "output_type": "execute_result"
    },
    {
     "data": {
      "image/png": "[encoded data removed]",
      "text/plain": [
       "<Figure size 432x288 with 1 Axes>"
      ]
     },
     "metadata": {
      "needs_background": "light"
     },
     "output_type": "display_data"
    }
   ],
   "source": [
    "sns.barplot(y=average_dist_a['지사'], x=average_dist_a['횟수'])"
   ]
  },
  {
   "cell_type": "code",
   "execution_count": 85,
   "id": "0032104e",
   "metadata": {},
   "outputs": [
    {
     "data": {
      "text/plain": [
       "<AxesSubplot:xlabel='배관과의 이격거리(M)', ylabel='지사'>"
      ]
     },
     "execution_count": 85,
     "metadata": {},
     "output_type": "execute_result"
    },
    {
     "data": {
      "image/png": "[encoded data removed]",
      "text/plain": [
       "<Figure size 432x288 with 1 Axes>"
      ]
     },
     "metadata": {
      "needs_background": "light"
     },
     "output_type": "display_data"
    }
   ],
   "source": [
    "sns.barplot(y=average_dist_b['지사'], x=average_dist_b['배관과의 이격거리(M)'])"
   ]
  },
  {
   "cell_type": "code",
   "execution_count": 86,
   "id": "860729d6",
   "metadata": {},
   "outputs": [
    {
     "data": {
      "text/plain": [
       "<AxesSubplot:xlabel='횟수', ylabel='지사'>"
      ]
     },
     "execution_count": 86,
     "metadata": {},
     "output_type": "execute_result"
    },
    {
     "data": {
      "image/png": "[encoded data removed]",
      "text/plain": [
       "<Figure size 432x288 with 1 Axes>"
      ]
     },
     "metadata": {
      "needs_background": "light"
     },
     "output_type": "display_data"
    }
   ],
   "source": [
    "sns.barplot(y=average_dist_b['지사'], x=average_dist_b['횟수'])"
   ]
  },
  {
   "cell_type": "code",
   "execution_count": 32,
   "id": "b642e859",
   "metadata": {},
   "outputs": [
    {
     "data": {
      "text/html": [
       "<div>\n",
       "<style scoped>\n",
       "    .dataframe tbody tr th:only-of-type {\n",
       "        vertical-align: middle;\n",
       "    }\n",
       "\n",
       "    .dataframe tbody tr th {\n",
       "        vertical-align: top;\n",
       "    }\n",
       "\n",
       "    .dataframe thead th {\n",
       "        text-align: right;\n",
       "    }\n",
       "</style>\n",
       "<table border=\"1\" class=\"dataframe\">\n",
       "  <thead>\n",
       "    <tr style=\"text-align: right;\">\n",
       "      <th></th>\n",
       "      <th>지사</th>\n",
       "      <th>배관과의 이격거리(M)</th>\n",
       "      <th>횟수</th>\n",
       "    </tr>\n",
       "  </thead>\n",
       "  <tbody>\n",
       "    <tr>\n",
       "      <th>0</th>\n",
       "      <td>강원지사</td>\n",
       "      <td>3.833333</td>\n",
       "      <td>9</td>\n",
       "    </tr>\n",
       "    <tr>\n",
       "      <th>1</th>\n",
       "      <td>경기지사</td>\n",
       "      <td>17.008333</td>\n",
       "      <td>12</td>\n",
       "    </tr>\n",
       "    <tr>\n",
       "      <th>2</th>\n",
       "      <td>광주전남지사</td>\n",
       "      <td>7.460714</td>\n",
       "      <td>28</td>\n",
       "    </tr>\n",
       "    <tr>\n",
       "      <th>3</th>\n",
       "      <td>대구경북지사</td>\n",
       "      <td>8.030000</td>\n",
       "      <td>10</td>\n",
       "    </tr>\n",
       "    <tr>\n",
       "      <th>4</th>\n",
       "      <td>대전충청지사</td>\n",
       "      <td>19.667692</td>\n",
       "      <td>65</td>\n",
       "    </tr>\n",
       "    <tr>\n",
       "      <th>5</th>\n",
       "      <td>부산경남지사</td>\n",
       "      <td>12.333333</td>\n",
       "      <td>21</td>\n",
       "    </tr>\n",
       "    <tr>\n",
       "      <th>6</th>\n",
       "      <td>서울지사</td>\n",
       "      <td>15.125000</td>\n",
       "      <td>4</td>\n",
       "    </tr>\n",
       "    <tr>\n",
       "      <th>7</th>\n",
       "      <td>인천지사</td>\n",
       "      <td>5.750000</td>\n",
       "      <td>4</td>\n",
       "    </tr>\n",
       "    <tr>\n",
       "      <th>8</th>\n",
       "      <td>전북지사</td>\n",
       "      <td>12.000000</td>\n",
       "      <td>2</td>\n",
       "    </tr>\n",
       "  </tbody>\n",
       "</table>\n",
       "</div>"
      ],
      "text/plain": [
       "       지사  배관과의 이격거리(M)  횟수\n",
       "0    강원지사      3.833333   9\n",
       "1    경기지사     17.008333  12\n",
       "2  광주전남지사      7.460714  28\n",
       "3  대구경북지사      8.030000  10\n",
       "4  대전충청지사     19.667692  65\n",
       "5  부산경남지사     12.333333  21\n",
       "6    서울지사     15.125000   4\n",
       "7    인천지사      5.750000   4\n",
       "8    전북지사     12.000000   2"
      ]
     },
     "execution_count": 32,
     "metadata": {},
     "output_type": "execute_result"
    }
   ],
   "source": [
    "# 미신고 굴착공사 예방활동\n",
    "average_dist_b"
   ]
  },
  {
   "cell_type": "code",
   "execution_count": 33,
   "id": "c3fe8a8a",
   "metadata": {},
   "outputs": [],
   "source": [
    "# 중대성 높음\n",
    "importance = df_1[(df_1['배관과의 이격거리(M)'] < 2) & (df_1['공사구분'] == '미신고 굴착공사')]"
   ]
  },
  {
   "cell_type": "code",
   "execution_count": 34,
   "id": "45c6f736",
   "metadata": {},
   "outputs": [
    {
     "data": {
      "text/plain": [
       "19"
      ]
     },
     "execution_count": 34,
     "metadata": {},
     "output_type": "execute_result"
    }
   ],
   "source": [
    "len(importance)"
   ]
  },
  {
   "cell_type": "code",
   "execution_count": 35,
   "id": "9a62e84a",
   "metadata": {},
   "outputs": [
    {
     "data": {
      "text/plain": [
       "타공사_전력    5\n",
       "타공사_하수    5\n",
       "타공사_상수    4\n",
       "기타        3\n",
       "타공사_통신    2\n",
       "Name: 공사종류, dtype: int64"
      ]
     },
     "execution_count": 35,
     "metadata": {},
     "output_type": "execute_result"
    }
   ],
   "source": [
    "importance['공사종류'].value_counts()"
   ]
  },
  {
   "cell_type": "code",
   "execution_count": 36,
   "id": "54526cd0",
   "metadata": {},
   "outputs": [
    {
     "data": {
      "text/plain": [
       "기타        84\n",
       "타공사_상수    39\n",
       "타공사_통신    35\n",
       "타공사_하수    28\n",
       "타공사_전력    22\n",
       "타공사_도로    12\n",
       "타공사_건축     2\n",
       "타공사_하천     1\n",
       "타공사_압력     1\n",
       "Name: 공사종류, dtype: int64"
      ]
     },
     "execution_count": 36,
     "metadata": {},
     "output_type": "execute_result"
    }
   ],
   "source": [
    "df_1['공사종류'].value_counts()"
   ]
  },
  {
   "cell_type": "code",
   "execution_count": 37,
   "id": "4d533376",
   "metadata": {},
   "outputs": [
    {
     "data": {
      "text/html": [
       "<div>\n",
       "<style scoped>\n",
       "    .dataframe tbody tr th:only-of-type {\n",
       "        vertical-align: middle;\n",
       "    }\n",
       "\n",
       "    .dataframe tbody tr th {\n",
       "        vertical-align: top;\n",
       "    }\n",
       "\n",
       "    .dataframe thead th {\n",
       "        text-align: right;\n",
       "    }\n",
       "</style>\n",
       "<table border=\"1\" class=\"dataframe\">\n",
       "  <thead>\n",
       "    <tr style=\"text-align: right;\">\n",
       "      <th></th>\n",
       "      <th>No</th>\n",
       "      <th>지사</th>\n",
       "      <th>공사구분</th>\n",
       "      <th>점검일자</th>\n",
       "      <th>행정구역(시,군)</th>\n",
       "      <th>공사종류</th>\n",
       "      <th>배관과의 이격거리(M)</th>\n",
       "    </tr>\n",
       "  </thead>\n",
       "  <tbody>\n",
       "    <tr>\n",
       "      <th>0</th>\n",
       "      <td>1</td>\n",
       "      <td>제주지사</td>\n",
       "      <td>미신고 굴착공사</td>\n",
       "      <td>2022-04-22</td>\n",
       "      <td>제주특별시</td>\n",
       "      <td>타공사_상수</td>\n",
       "      <td>0.5</td>\n",
       "    </tr>\n",
       "    <tr>\n",
       "      <th>1</th>\n",
       "      <td>2</td>\n",
       "      <td>서울지사</td>\n",
       "      <td>미신고 굴착공사</td>\n",
       "      <td>2022-08-22</td>\n",
       "      <td>경기도 고양시</td>\n",
       "      <td>타공사_전력</td>\n",
       "      <td>0.5</td>\n",
       "    </tr>\n",
       "    <tr>\n",
       "      <th>2</th>\n",
       "      <td>3</td>\n",
       "      <td>서울지사</td>\n",
       "      <td>미신고 굴착공사</td>\n",
       "      <td>2022-05-13</td>\n",
       "      <td>경기도 파주시</td>\n",
       "      <td>타공사_통신</td>\n",
       "      <td>2.0</td>\n",
       "    </tr>\n",
       "    <tr>\n",
       "      <th>3</th>\n",
       "      <td>4</td>\n",
       "      <td>서울지사</td>\n",
       "      <td>미신고 굴착공사</td>\n",
       "      <td>2022-03-12</td>\n",
       "      <td>경기도 파주시</td>\n",
       "      <td>기타</td>\n",
       "      <td>4.0</td>\n",
       "    </tr>\n",
       "    <tr>\n",
       "      <th>4</th>\n",
       "      <td>5</td>\n",
       "      <td>서울지사</td>\n",
       "      <td>미신고 굴착공사</td>\n",
       "      <td>2021-12-15</td>\n",
       "      <td>경기도 파주시</td>\n",
       "      <td>타공사_하수</td>\n",
       "      <td>0.3</td>\n",
       "    </tr>\n",
       "    <tr>\n",
       "      <th>...</th>\n",
       "      <td>...</td>\n",
       "      <td>...</td>\n",
       "      <td>...</td>\n",
       "      <td>...</td>\n",
       "      <td>...</td>\n",
       "      <td>...</td>\n",
       "      <td>...</td>\n",
       "    </tr>\n",
       "    <tr>\n",
       "      <th>219</th>\n",
       "      <td>220</td>\n",
       "      <td>인천지사</td>\n",
       "      <td>미신고 굴착공사</td>\n",
       "      <td>2020-09-04</td>\n",
       "      <td>인천광역시</td>\n",
       "      <td>타공사_통신</td>\n",
       "      <td>2.0</td>\n",
       "    </tr>\n",
       "    <tr>\n",
       "      <th>220</th>\n",
       "      <td>221</td>\n",
       "      <td>인천지사</td>\n",
       "      <td>미신고 굴착공사 예방활동</td>\n",
       "      <td>2020-05-05</td>\n",
       "      <td>인천광역시</td>\n",
       "      <td>타공사_상수</td>\n",
       "      <td>10.0</td>\n",
       "    </tr>\n",
       "    <tr>\n",
       "      <th>221</th>\n",
       "      <td>222</td>\n",
       "      <td>인천지사</td>\n",
       "      <td>미신고 굴착공사 예방활동</td>\n",
       "      <td>2019-12-23</td>\n",
       "      <td>인천광역시</td>\n",
       "      <td>타공사_전력</td>\n",
       "      <td>5.0</td>\n",
       "    </tr>\n",
       "    <tr>\n",
       "      <th>222</th>\n",
       "      <td>223</td>\n",
       "      <td>인천지사</td>\n",
       "      <td>미신고 굴착공사</td>\n",
       "      <td>2019-12-13</td>\n",
       "      <td>인천광역시</td>\n",
       "      <td>타공사_하수</td>\n",
       "      <td>2.0</td>\n",
       "    </tr>\n",
       "    <tr>\n",
       "      <th>223</th>\n",
       "      <td>224</td>\n",
       "      <td>인천지사</td>\n",
       "      <td>미신고 굴착공사 예방활동</td>\n",
       "      <td>2019-11-08</td>\n",
       "      <td>서울특별시</td>\n",
       "      <td>타공사_상수</td>\n",
       "      <td>3.0</td>\n",
       "    </tr>\n",
       "  </tbody>\n",
       "</table>\n",
       "<p>224 rows × 7 columns</p>\n",
       "</div>"
      ],
      "text/plain": [
       "      No    지사           공사구분        점검일자 행정구역(시,군)    공사종류  배관과의 이격거리(M)\n",
       "0      1  제주지사       미신고 굴착공사  2022-04-22     제주특별시  타공사_상수           0.5\n",
       "1      2  서울지사       미신고 굴착공사  2022-08-22   경기도 고양시  타공사_전력           0.5\n",
       "2      3  서울지사       미신고 굴착공사  2022-05-13   경기도 파주시  타공사_통신           2.0\n",
       "3      4  서울지사       미신고 굴착공사  2022-03-12   경기도 파주시      기타           4.0\n",
       "4      5  서울지사       미신고 굴착공사  2021-12-15   경기도 파주시  타공사_하수           0.3\n",
       "..   ...   ...            ...         ...       ...     ...           ...\n",
       "219  220  인천지사       미신고 굴착공사  2020-09-04    인천광역시   타공사_통신           2.0\n",
       "220  221  인천지사  미신고 굴착공사 예방활동  2020-05-05    인천광역시   타공사_상수          10.0\n",
       "221  222  인천지사  미신고 굴착공사 예방활동  2019-12-23    인천광역시   타공사_전력           5.0\n",
       "222  223  인천지사       미신고 굴착공사  2019-12-13    인천광역시   타공사_하수           2.0\n",
       "223  224  인천지사  미신고 굴착공사 예방활동  2019-11-08    서울특별시   타공사_상수           3.0\n",
       "\n",
       "[224 rows x 7 columns]"
      ]
     },
     "execution_count": 37,
     "metadata": {},
     "output_type": "execute_result"
    }
   ],
   "source": [
    "df_1"
   ]
  },
  {
   "cell_type": "code",
   "execution_count": 38,
   "id": "4726c2da",
   "metadata": {},
   "outputs": [],
   "source": [
    "df1_month = [df_1['점검일자'][i][5:7] for i in range(len(df_1))]"
   ]
  },
  {
   "cell_type": "code",
   "execution_count": 39,
   "id": "ba4af3de",
   "metadata": {},
   "outputs": [],
   "source": [
    "df1_year = [df_1['점검일자'][i][0:4] for i in range(len(df_1))]"
   ]
  },
  {
   "cell_type": "code",
   "execution_count": 40,
   "id": "60088392",
   "metadata": {},
   "outputs": [],
   "source": [
    "df_1['month'] = df1_month"
   ]
  },
  {
   "cell_type": "code",
   "execution_count": 41,
   "id": "eccd56f6",
   "metadata": {},
   "outputs": [],
   "source": [
    "df_1['year'] = df1_year"
   ]
  },
  {
   "cell_type": "code",
   "execution_count": 42,
   "id": "ded7e729",
   "metadata": {},
   "outputs": [],
   "source": [
    "df_1['y'] = 0"
   ]
  },
  {
   "cell_type": "code",
   "execution_count": 43,
   "id": "5ec93fff",
   "metadata": {},
   "outputs": [],
   "source": [
    "df_1.loc[(df_1['배관과의 이격거리(M)'] < 2) & (df_1['공사구분'] == '미신고 굴착공사'), 'y'] = 1"
   ]
  },
  {
   "cell_type": "code",
   "execution_count": 44,
   "id": "49d32b2d",
   "metadata": {},
   "outputs": [
    {
     "data": {
      "text/html": [
       "<div>\n",
       "<style scoped>\n",
       "    .dataframe tbody tr th:only-of-type {\n",
       "        vertical-align: middle;\n",
       "    }\n",
       "\n",
       "    .dataframe tbody tr th {\n",
       "        vertical-align: top;\n",
       "    }\n",
       "\n",
       "    .dataframe thead th {\n",
       "        text-align: right;\n",
       "    }\n",
       "</style>\n",
       "<table border=\"1\" class=\"dataframe\">\n",
       "  <thead>\n",
       "    <tr style=\"text-align: right;\">\n",
       "      <th></th>\n",
       "      <th>No</th>\n",
       "      <th>지사</th>\n",
       "      <th>공사구분</th>\n",
       "      <th>점검일자</th>\n",
       "      <th>행정구역(시,군)</th>\n",
       "      <th>공사종류</th>\n",
       "      <th>배관과의 이격거리(M)</th>\n",
       "      <th>month</th>\n",
       "      <th>year</th>\n",
       "      <th>y</th>\n",
       "    </tr>\n",
       "  </thead>\n",
       "  <tbody>\n",
       "    <tr>\n",
       "      <th>0</th>\n",
       "      <td>1</td>\n",
       "      <td>제주지사</td>\n",
       "      <td>미신고 굴착공사</td>\n",
       "      <td>2022-04-22</td>\n",
       "      <td>제주특별시</td>\n",
       "      <td>타공사_상수</td>\n",
       "      <td>0.5</td>\n",
       "      <td>04</td>\n",
       "      <td>2022</td>\n",
       "      <td>1</td>\n",
       "    </tr>\n",
       "    <tr>\n",
       "      <th>1</th>\n",
       "      <td>2</td>\n",
       "      <td>서울지사</td>\n",
       "      <td>미신고 굴착공사</td>\n",
       "      <td>2022-08-22</td>\n",
       "      <td>경기도 고양시</td>\n",
       "      <td>타공사_전력</td>\n",
       "      <td>0.5</td>\n",
       "      <td>08</td>\n",
       "      <td>2022</td>\n",
       "      <td>1</td>\n",
       "    </tr>\n",
       "    <tr>\n",
       "      <th>2</th>\n",
       "      <td>3</td>\n",
       "      <td>서울지사</td>\n",
       "      <td>미신고 굴착공사</td>\n",
       "      <td>2022-05-13</td>\n",
       "      <td>경기도 파주시</td>\n",
       "      <td>타공사_통신</td>\n",
       "      <td>2.0</td>\n",
       "      <td>05</td>\n",
       "      <td>2022</td>\n",
       "      <td>0</td>\n",
       "    </tr>\n",
       "    <tr>\n",
       "      <th>3</th>\n",
       "      <td>4</td>\n",
       "      <td>서울지사</td>\n",
       "      <td>미신고 굴착공사</td>\n",
       "      <td>2022-03-12</td>\n",
       "      <td>경기도 파주시</td>\n",
       "      <td>기타</td>\n",
       "      <td>4.0</td>\n",
       "      <td>03</td>\n",
       "      <td>2022</td>\n",
       "      <td>0</td>\n",
       "    </tr>\n",
       "    <tr>\n",
       "      <th>4</th>\n",
       "      <td>5</td>\n",
       "      <td>서울지사</td>\n",
       "      <td>미신고 굴착공사</td>\n",
       "      <td>2021-12-15</td>\n",
       "      <td>경기도 파주시</td>\n",
       "      <td>타공사_하수</td>\n",
       "      <td>0.3</td>\n",
       "      <td>12</td>\n",
       "      <td>2021</td>\n",
       "      <td>1</td>\n",
       "    </tr>\n",
       "    <tr>\n",
       "      <th>...</th>\n",
       "      <td>...</td>\n",
       "      <td>...</td>\n",
       "      <td>...</td>\n",
       "      <td>...</td>\n",
       "      <td>...</td>\n",
       "      <td>...</td>\n",
       "      <td>...</td>\n",
       "      <td>...</td>\n",
       "      <td>...</td>\n",
       "      <td>...</td>\n",
       "    </tr>\n",
       "    <tr>\n",
       "      <th>219</th>\n",
       "      <td>220</td>\n",
       "      <td>인천지사</td>\n",
       "      <td>미신고 굴착공사</td>\n",
       "      <td>2020-09-04</td>\n",
       "      <td>인천광역시</td>\n",
       "      <td>타공사_통신</td>\n",
       "      <td>2.0</td>\n",
       "      <td>09</td>\n",
       "      <td>2020</td>\n",
       "      <td>0</td>\n",
       "    </tr>\n",
       "    <tr>\n",
       "      <th>220</th>\n",
       "      <td>221</td>\n",
       "      <td>인천지사</td>\n",
       "      <td>미신고 굴착공사 예방활동</td>\n",
       "      <td>2020-05-05</td>\n",
       "      <td>인천광역시</td>\n",
       "      <td>타공사_상수</td>\n",
       "      <td>10.0</td>\n",
       "      <td>05</td>\n",
       "      <td>2020</td>\n",
       "      <td>0</td>\n",
       "    </tr>\n",
       "    <tr>\n",
       "      <th>221</th>\n",
       "      <td>222</td>\n",
       "      <td>인천지사</td>\n",
       "      <td>미신고 굴착공사 예방활동</td>\n",
       "      <td>2019-12-23</td>\n",
       "      <td>인천광역시</td>\n",
       "      <td>타공사_전력</td>\n",
       "      <td>5.0</td>\n",
       "      <td>12</td>\n",
       "      <td>2019</td>\n",
       "      <td>0</td>\n",
       "    </tr>\n",
       "    <tr>\n",
       "      <th>222</th>\n",
       "      <td>223</td>\n",
       "      <td>인천지사</td>\n",
       "      <td>미신고 굴착공사</td>\n",
       "      <td>2019-12-13</td>\n",
       "      <td>인천광역시</td>\n",
       "      <td>타공사_하수</td>\n",
       "      <td>2.0</td>\n",
       "      <td>12</td>\n",
       "      <td>2019</td>\n",
       "      <td>0</td>\n",
       "    </tr>\n",
       "    <tr>\n",
       "      <th>223</th>\n",
       "      <td>224</td>\n",
       "      <td>인천지사</td>\n",
       "      <td>미신고 굴착공사 예방활동</td>\n",
       "      <td>2019-11-08</td>\n",
       "      <td>서울특별시</td>\n",
       "      <td>타공사_상수</td>\n",
       "      <td>3.0</td>\n",
       "      <td>11</td>\n",
       "      <td>2019</td>\n",
       "      <td>0</td>\n",
       "    </tr>\n",
       "  </tbody>\n",
       "</table>\n",
       "<p>224 rows × 10 columns</p>\n",
       "</div>"
      ],
      "text/plain": [
       "      No    지사           공사구분        점검일자 행정구역(시,군)    공사종류  배관과의 이격거리(M)  \\\n",
       "0      1  제주지사       미신고 굴착공사  2022-04-22     제주특별시  타공사_상수           0.5   \n",
       "1      2  서울지사       미신고 굴착공사  2022-08-22   경기도 고양시  타공사_전력           0.5   \n",
       "2      3  서울지사       미신고 굴착공사  2022-05-13   경기도 파주시  타공사_통신           2.0   \n",
       "3      4  서울지사       미신고 굴착공사  2022-03-12   경기도 파주시      기타           4.0   \n",
       "4      5  서울지사       미신고 굴착공사  2021-12-15   경기도 파주시  타공사_하수           0.3   \n",
       "..   ...   ...            ...         ...       ...     ...           ...   \n",
       "219  220  인천지사       미신고 굴착공사  2020-09-04    인천광역시   타공사_통신           2.0   \n",
       "220  221  인천지사  미신고 굴착공사 예방활동  2020-05-05    인천광역시   타공사_상수          10.0   \n",
       "221  222  인천지사  미신고 굴착공사 예방활동  2019-12-23    인천광역시   타공사_전력           5.0   \n",
       "222  223  인천지사       미신고 굴착공사  2019-12-13    인천광역시   타공사_하수           2.0   \n",
       "223  224  인천지사  미신고 굴착공사 예방활동  2019-11-08    서울특별시   타공사_상수           3.0   \n",
       "\n",
       "    month  year  y  \n",
       "0      04  2022  1  \n",
       "1      08  2022  1  \n",
       "2      05  2022  0  \n",
       "3      03  2022  0  \n",
       "4      12  2021  1  \n",
       "..    ...   ... ..  \n",
       "219    09  2020  0  \n",
       "220    05  2020  0  \n",
       "221    12  2019  0  \n",
       "222    12  2019  0  \n",
       "223    11  2019  0  \n",
       "\n",
       "[224 rows x 10 columns]"
      ]
     },
     "execution_count": 44,
     "metadata": {},
     "output_type": "execute_result"
    }
   ],
   "source": [
    "df_1"
   ]
  },
  {
   "cell_type": "code",
   "execution_count": 45,
   "id": "8f256022",
   "metadata": {},
   "outputs": [],
   "source": [
    "df1_dummy = pd.get_dummies(df_1[['공사종류', '지사']])"
   ]
  },
  {
   "cell_type": "code",
   "execution_count": 46,
   "id": "728b9a07",
   "metadata": {},
   "outputs": [],
   "source": [
    "df1_dataset = pd.concat([df1_dummy, df_1[['month', 'year', 'y']]], axis=1)"
   ]
  },
  {
   "cell_type": "code",
   "execution_count": 47,
   "id": "dbfafeae",
   "metadata": {},
   "outputs": [
    {
     "data": {
      "text/html": [
       "<div>\n",
       "<style scoped>\n",
       "    .dataframe tbody tr th:only-of-type {\n",
       "        vertical-align: middle;\n",
       "    }\n",
       "\n",
       "    .dataframe tbody tr th {\n",
       "        vertical-align: top;\n",
       "    }\n",
       "\n",
       "    .dataframe thead th {\n",
       "        text-align: right;\n",
       "    }\n",
       "</style>\n",
       "<table border=\"1\" class=\"dataframe\">\n",
       "  <thead>\n",
       "    <tr style=\"text-align: right;\">\n",
       "      <th></th>\n",
       "      <th>공사종류_기타</th>\n",
       "      <th>공사종류_타공사_건축</th>\n",
       "      <th>공사종류_타공사_도로</th>\n",
       "      <th>공사종류_타공사_상수</th>\n",
       "      <th>공사종류_타공사_압력</th>\n",
       "      <th>공사종류_타공사_전력</th>\n",
       "      <th>공사종류_타공사_통신</th>\n",
       "      <th>공사종류_타공사_하수</th>\n",
       "      <th>공사종류_타공사_하천</th>\n",
       "      <th>지사_강원지사</th>\n",
       "      <th>...</th>\n",
       "      <th>지사_대구경북지사</th>\n",
       "      <th>지사_대전충청지사</th>\n",
       "      <th>지사_부산경남지사</th>\n",
       "      <th>지사_서울지사</th>\n",
       "      <th>지사_인천지사</th>\n",
       "      <th>지사_전북지사</th>\n",
       "      <th>지사_제주지사</th>\n",
       "      <th>month</th>\n",
       "      <th>year</th>\n",
       "      <th>y</th>\n",
       "    </tr>\n",
       "  </thead>\n",
       "  <tbody>\n",
       "    <tr>\n",
       "      <th>0</th>\n",
       "      <td>0</td>\n",
       "      <td>0</td>\n",
       "      <td>0</td>\n",
       "      <td>1</td>\n",
       "      <td>0</td>\n",
       "      <td>0</td>\n",
       "      <td>0</td>\n",
       "      <td>0</td>\n",
       "      <td>0</td>\n",
       "      <td>0</td>\n",
       "      <td>...</td>\n",
       "      <td>0</td>\n",
       "      <td>0</td>\n",
       "      <td>0</td>\n",
       "      <td>0</td>\n",
       "      <td>0</td>\n",
       "      <td>0</td>\n",
       "      <td>1</td>\n",
       "      <td>04</td>\n",
       "      <td>2022</td>\n",
       "      <td>1</td>\n",
       "    </tr>\n",
       "    <tr>\n",
       "      <th>1</th>\n",
       "      <td>0</td>\n",
       "      <td>0</td>\n",
       "      <td>0</td>\n",
       "      <td>0</td>\n",
       "      <td>0</td>\n",
       "      <td>1</td>\n",
       "      <td>0</td>\n",
       "      <td>0</td>\n",
       "      <td>0</td>\n",
       "      <td>0</td>\n",
       "      <td>...</td>\n",
       "      <td>0</td>\n",
       "      <td>0</td>\n",
       "      <td>0</td>\n",
       "      <td>1</td>\n",
       "      <td>0</td>\n",
       "      <td>0</td>\n",
       "      <td>0</td>\n",
       "      <td>08</td>\n",
       "      <td>2022</td>\n",
       "      <td>1</td>\n",
       "    </tr>\n",
       "    <tr>\n",
       "      <th>2</th>\n",
       "      <td>0</td>\n",
       "      <td>0</td>\n",
       "      <td>0</td>\n",
       "      <td>0</td>\n",
       "      <td>0</td>\n",
       "      <td>0</td>\n",
       "      <td>1</td>\n",
       "      <td>0</td>\n",
       "      <td>0</td>\n",
       "      <td>0</td>\n",
       "      <td>...</td>\n",
       "      <td>0</td>\n",
       "      <td>0</td>\n",
       "      <td>0</td>\n",
       "      <td>1</td>\n",
       "      <td>0</td>\n",
       "      <td>0</td>\n",
       "      <td>0</td>\n",
       "      <td>05</td>\n",
       "      <td>2022</td>\n",
       "      <td>0</td>\n",
       "    </tr>\n",
       "    <tr>\n",
       "      <th>3</th>\n",
       "      <td>1</td>\n",
       "      <td>0</td>\n",
       "      <td>0</td>\n",
       "      <td>0</td>\n",
       "      <td>0</td>\n",
       "      <td>0</td>\n",
       "      <td>0</td>\n",
       "      <td>0</td>\n",
       "      <td>0</td>\n",
       "      <td>0</td>\n",
       "      <td>...</td>\n",
       "      <td>0</td>\n",
       "      <td>0</td>\n",
       "      <td>0</td>\n",
       "      <td>1</td>\n",
       "      <td>0</td>\n",
       "      <td>0</td>\n",
       "      <td>0</td>\n",
       "      <td>03</td>\n",
       "      <td>2022</td>\n",
       "      <td>0</td>\n",
       "    </tr>\n",
       "    <tr>\n",
       "      <th>4</th>\n",
       "      <td>0</td>\n",
       "      <td>0</td>\n",
       "      <td>0</td>\n",
       "      <td>0</td>\n",
       "      <td>0</td>\n",
       "      <td>0</td>\n",
       "      <td>0</td>\n",
       "      <td>1</td>\n",
       "      <td>0</td>\n",
       "      <td>0</td>\n",
       "      <td>...</td>\n",
       "      <td>0</td>\n",
       "      <td>0</td>\n",
       "      <td>0</td>\n",
       "      <td>1</td>\n",
       "      <td>0</td>\n",
       "      <td>0</td>\n",
       "      <td>0</td>\n",
       "      <td>12</td>\n",
       "      <td>2021</td>\n",
       "      <td>1</td>\n",
       "    </tr>\n",
       "    <tr>\n",
       "      <th>...</th>\n",
       "      <td>...</td>\n",
       "      <td>...</td>\n",
       "      <td>...</td>\n",
       "      <td>...</td>\n",
       "      <td>...</td>\n",
       "      <td>...</td>\n",
       "      <td>...</td>\n",
       "      <td>...</td>\n",
       "      <td>...</td>\n",
       "      <td>...</td>\n",
       "      <td>...</td>\n",
       "      <td>...</td>\n",
       "      <td>...</td>\n",
       "      <td>...</td>\n",
       "      <td>...</td>\n",
       "      <td>...</td>\n",
       "      <td>...</td>\n",
       "      <td>...</td>\n",
       "      <td>...</td>\n",
       "      <td>...</td>\n",
       "      <td>...</td>\n",
       "    </tr>\n",
       "    <tr>\n",
       "      <th>219</th>\n",
       "      <td>0</td>\n",
       "      <td>0</td>\n",
       "      <td>0</td>\n",
       "      <td>0</td>\n",
       "      <td>0</td>\n",
       "      <td>0</td>\n",
       "      <td>1</td>\n",
       "      <td>0</td>\n",
       "      <td>0</td>\n",
       "      <td>0</td>\n",
       "      <td>...</td>\n",
       "      <td>0</td>\n",
       "      <td>0</td>\n",
       "      <td>0</td>\n",
       "      <td>0</td>\n",
       "      <td>1</td>\n",
       "      <td>0</td>\n",
       "      <td>0</td>\n",
       "      <td>09</td>\n",
       "      <td>2020</td>\n",
       "      <td>0</td>\n",
       "    </tr>\n",
       "    <tr>\n",
       "      <th>220</th>\n",
       "      <td>0</td>\n",
       "      <td>0</td>\n",
       "      <td>0</td>\n",
       "      <td>1</td>\n",
       "      <td>0</td>\n",
       "      <td>0</td>\n",
       "      <td>0</td>\n",
       "      <td>0</td>\n",
       "      <td>0</td>\n",
       "      <td>0</td>\n",
       "      <td>...</td>\n",
       "      <td>0</td>\n",
       "      <td>0</td>\n",
       "      <td>0</td>\n",
       "      <td>0</td>\n",
       "      <td>1</td>\n",
       "      <td>0</td>\n",
       "      <td>0</td>\n",
       "      <td>05</td>\n",
       "      <td>2020</td>\n",
       "      <td>0</td>\n",
       "    </tr>\n",
       "    <tr>\n",
       "      <th>221</th>\n",
       "      <td>0</td>\n",
       "      <td>0</td>\n",
       "      <td>0</td>\n",
       "      <td>0</td>\n",
       "      <td>0</td>\n",
       "      <td>1</td>\n",
       "      <td>0</td>\n",
       "      <td>0</td>\n",
       "      <td>0</td>\n",
       "      <td>0</td>\n",
       "      <td>...</td>\n",
       "      <td>0</td>\n",
       "      <td>0</td>\n",
       "      <td>0</td>\n",
       "      <td>0</td>\n",
       "      <td>1</td>\n",
       "      <td>0</td>\n",
       "      <td>0</td>\n",
       "      <td>12</td>\n",
       "      <td>2019</td>\n",
       "      <td>0</td>\n",
       "    </tr>\n",
       "    <tr>\n",
       "      <th>222</th>\n",
       "      <td>0</td>\n",
       "      <td>0</td>\n",
       "      <td>0</td>\n",
       "      <td>0</td>\n",
       "      <td>0</td>\n",
       "      <td>0</td>\n",
       "      <td>0</td>\n",
       "      <td>1</td>\n",
       "      <td>0</td>\n",
       "      <td>0</td>\n",
       "      <td>...</td>\n",
       "      <td>0</td>\n",
       "      <td>0</td>\n",
       "      <td>0</td>\n",
       "      <td>0</td>\n",
       "      <td>1</td>\n",
       "      <td>0</td>\n",
       "      <td>0</td>\n",
       "      <td>12</td>\n",
       "      <td>2019</td>\n",
       "      <td>0</td>\n",
       "    </tr>\n",
       "    <tr>\n",
       "      <th>223</th>\n",
       "      <td>0</td>\n",
       "      <td>0</td>\n",
       "      <td>0</td>\n",
       "      <td>1</td>\n",
       "      <td>0</td>\n",
       "      <td>0</td>\n",
       "      <td>0</td>\n",
       "      <td>0</td>\n",
       "      <td>0</td>\n",
       "      <td>0</td>\n",
       "      <td>...</td>\n",
       "      <td>0</td>\n",
       "      <td>0</td>\n",
       "      <td>0</td>\n",
       "      <td>0</td>\n",
       "      <td>1</td>\n",
       "      <td>0</td>\n",
       "      <td>0</td>\n",
       "      <td>11</td>\n",
       "      <td>2019</td>\n",
       "      <td>0</td>\n",
       "    </tr>\n",
       "  </tbody>\n",
       "</table>\n",
       "<p>224 rows × 22 columns</p>\n",
       "</div>"
      ],
      "text/plain": [
       "     공사종류_기타  공사종류_타공사_건축  공사종류_타공사_도로  공사종류_타공사_상수  공사종류_타공사_압력  공사종류_타공사_전력  \\\n",
       "0          0            0            0            1            0            0   \n",
       "1          0            0            0            0            0            1   \n",
       "2          0            0            0            0            0            0   \n",
       "3          1            0            0            0            0            0   \n",
       "4          0            0            0            0            0            0   \n",
       "..       ...          ...          ...          ...          ...          ...   \n",
       "219        0            0            0            0            0            0   \n",
       "220        0            0            0            1            0            0   \n",
       "221        0            0            0            0            0            1   \n",
       "222        0            0            0            0            0            0   \n",
       "223        0            0            0            1            0            0   \n",
       "\n",
       "     공사종류_타공사_통신  공사종류_타공사_하수  공사종류_타공사_하천  지사_강원지사  ...  지사_대구경북지사  \\\n",
       "0              0            0            0        0  ...          0   \n",
       "1              0            0            0        0  ...          0   \n",
       "2              1            0            0        0  ...          0   \n",
       "3              0            0            0        0  ...          0   \n",
       "4              0            1            0        0  ...          0   \n",
       "..           ...          ...          ...      ...  ...        ...   \n",
       "219            1            0            0        0  ...          0   \n",
       "220            0            0            0        0  ...          0   \n",
       "221            0            0            0        0  ...          0   \n",
       "222            0            1            0        0  ...          0   \n",
       "223            0            0            0        0  ...          0   \n",
       "\n",
       "     지사_대전충청지사  지사_부산경남지사  지사_서울지사  지사_인천지사  지사_전북지사  지사_제주지사  month  year  y  \n",
       "0            0          0        0        0        0        1     04  2022  1  \n",
       "1            0          0        1        0        0        0     08  2022  1  \n",
       "2            0          0        1        0        0        0     05  2022  0  \n",
       "3            0          0        1        0        0        0     03  2022  0  \n",
       "4            0          0        1        0        0        0     12  2021  1  \n",
       "..         ...        ...      ...      ...      ...      ...    ...   ... ..  \n",
       "219          0          0        0        1        0        0     09  2020  0  \n",
       "220          0          0        0        1        0        0     05  2020  0  \n",
       "221          0          0        0        1        0        0     12  2019  0  \n",
       "222          0          0        0        1        0        0     12  2019  0  \n",
       "223          0          0        0        1        0        0     11  2019  0  \n",
       "\n",
       "[224 rows x 22 columns]"
      ]
     },
     "execution_count": 47,
     "metadata": {},
     "output_type": "execute_result"
    }
   ],
   "source": [
    "df1_dataset"
   ]
  },
  {
   "cell_type": "code",
   "execution_count": 48,
   "id": "a41c3c11",
   "metadata": {},
   "outputs": [],
   "source": [
    "from sklearn.pipeline import Pipeline\n",
    "from sklearn.model_selection import train_test_split\n",
    "from sklearn.linear_model import LogisticRegression\n",
    "from sklearn.metrics import roc_auc_score"
   ]
  },
  {
   "cell_type": "code",
   "execution_count": 49,
   "id": "b40ba8d3",
   "metadata": {},
   "outputs": [],
   "source": [
    "X_train, X_test, y_train, y_test = train_test_split(df1_dataset.drop(columns='y'), df1_dataset['y'], test_size=.2, random_state=1234, stratify=df1_dataset['y'])"
   ]
  },
  {
   "cell_type": "code",
   "execution_count": 50,
   "id": "487a8114",
   "metadata": {},
   "outputs": [
    {
     "data": {
      "text/html": [
       "<style>#sk-container-id-1 {color: black;background-color: white;}#sk-container-id-1 pre{padding: 0;}#sk-container-id-1 div.sk-toggleable {background-color: white;}#sk-container-id-1 label.sk-toggleable__label {cursor: pointer;display: block;width: 100%;margin-bottom: 0;padding: 0.3em;box-sizing: border-box;text-align: center;}#sk-container-id-1 label.sk-toggleable__label-arrow:before {content: \"▸\";float: left;margin-right: 0.25em;color: #696969;}#sk-container-id-1 label.sk-toggleable__label-arrow:hover:before {color: black;}#sk-container-id-1 div.sk-estimator:hover label.sk-toggleable__label-arrow:before {color: black;}#sk-container-id-1 div.sk-toggleable__content {max-height: 0;max-width: 0;overflow: hidden;text-align: left;background-color: #f0f8ff;}#sk-container-id-1 div.sk-toggleable__content pre {margin: 0.2em;color: black;border-radius: 0.25em;background-color: #f0f8ff;}#sk-container-id-1 input.sk-toggleable__control:checked~div.sk-toggleable__content {max-height: 200px;max-width: 100%;overflow: auto;}#sk-container-id-1 input.sk-toggleable__control:checked~label.sk-toggleable__label-arrow:before {content: \"▾\";}#sk-container-id-1 div.sk-estimator input.sk-toggleable__control:checked~label.sk-toggleable__label {background-color: #d4ebff;}#sk-container-id-1 div.sk-label input.sk-toggleable__control:checked~label.sk-toggleable__label {background-color: #d4ebff;}#sk-container-id-1 input.sk-hidden--visually {border: 0;clip: rect(1px 1px 1px 1px);clip: rect(1px, 1px, 1px, 1px);height: 1px;margin: -1px;overflow: hidden;padding: 0;position: absolute;width: 1px;}#sk-container-id-1 div.sk-estimator {font-family: monospace;background-color: #f0f8ff;border: 1px dotted black;border-radius: 0.25em;box-sizing: border-box;margin-bottom: 0.5em;}#sk-container-id-1 div.sk-estimator:hover {background-color: #d4ebff;}#sk-container-id-1 div.sk-parallel-item::after {content: \"\";width: 100%;border-bottom: 1px solid gray;flex-grow: 1;}#sk-container-id-1 div.sk-label:hover label.sk-toggleable__label {background-color: #d4ebff;}#sk-container-id-1 div.sk-serial::before {content: \"\";position: absolute;border-left: 1px solid gray;box-sizing: border-box;top: 0;bottom: 0;left: 50%;z-index: 0;}#sk-container-id-1 div.sk-serial {display: flex;flex-direction: column;align-items: center;background-color: white;padding-right: 0.2em;padding-left: 0.2em;position: relative;}#sk-container-id-1 div.sk-item {position: relative;z-index: 1;}#sk-container-id-1 div.sk-parallel {display: flex;align-items: stretch;justify-content: center;background-color: white;position: relative;}#sk-container-id-1 div.sk-item::before, #sk-container-id-1 div.sk-parallel-item::before {content: \"\";position: absolute;border-left: 1px solid gray;box-sizing: border-box;top: 0;bottom: 0;left: 50%;z-index: -1;}#sk-container-id-1 div.sk-parallel-item {display: flex;flex-direction: column;z-index: 1;position: relative;background-color: white;}#sk-container-id-1 div.sk-parallel-item:first-child::after {align-self: flex-end;width: 50%;}#sk-container-id-1 div.sk-parallel-item:last-child::after {align-self: flex-start;width: 50%;}#sk-container-id-1 div.sk-parallel-item:only-child::after {width: 0;}#sk-container-id-1 div.sk-dashed-wrapped {border: 1px dashed gray;margin: 0 0.4em 0.5em 0.4em;box-sizing: border-box;padding-bottom: 0.4em;background-color: white;}#sk-container-id-1 div.sk-label label {font-family: monospace;font-weight: bold;display: inline-block;line-height: 1.2em;}#sk-container-id-1 div.sk-label-container {text-align: center;}#sk-container-id-1 div.sk-container {/* jupyter's `normalize.less` sets `[hidden] { display: none; }` but bootstrap.min.css set `[hidden] { display: none !important; }` so we also need the `!important` here to be able to override the default hidden behavior on the sphinx rendered scikit-learn.org. See: https://github.com/scikit-learn/scikit-learn/issues/21755 */display: inline-block !important;position: relative;}#sk-container-id-1 div.sk-text-repr-fallback {display: none;}</style><div id=\"sk-container-id-1\" class=\"sk-top-container\"><div class=\"sk-text-repr-fallback\"><pre>LogisticRegression()</pre><b>In a Jupyter environment, please rerun this cell to show the HTML representation or trust the notebook. <br />On GitHub, the HTML representation is unable to render, please try loading this page with nbviewer.org.</b></div><div class=\"sk-container\" hidden><div class=\"sk-item\"><div class=\"sk-estimator sk-toggleable\"><input class=\"sk-toggleable__control sk-hidden--visually\" id=\"sk-estimator-id-1\" type=\"checkbox\" checked><label for=\"sk-estimator-id-1\" class=\"sk-toggleable__label sk-toggleable__label-arrow\">LogisticRegression</label><div class=\"sk-toggleable__content\"><pre>LogisticRegression()</pre></div></div></div></div></div>"
      ],
      "text/plain": [
       "LogisticRegression()"
      ]
     },
     "execution_count": 50,
     "metadata": {},
     "output_type": "execute_result"
    }
   ],
   "source": [
    "model = LogisticRegression()\n",
    "model.fit(X_train, y_train)"
   ]
  },
  {
   "cell_type": "code",
   "execution_count": 51,
   "id": "57103c14",
   "metadata": {},
   "outputs": [
    {
     "name": "stdout",
     "output_type": "stream",
     "text": [
      "Train ROC-AUC: 0.8291\n",
      "Test ROC-AUC: 0.7256\n"
     ]
    }
   ],
   "source": [
    "def calculate_roc_auc(model_pipe, X, y):\n",
    "    y_proba = model_pipe.predict_proba(X)[:,1]\n",
    "    return roc_auc_score(y, y_proba)\n",
    "  \n",
    "print(f\"Train ROC-AUC: {calculate_roc_auc(model, X_train, y_train):.4f}\")\n",
    "print(f\"Test ROC-AUC: {calculate_roc_auc(model, X_test, y_test):.4f}\")"
   ]
  },
  {
   "cell_type": "code",
   "execution_count": 52,
   "id": "e4b380c1",
   "metadata": {},
   "outputs": [],
   "source": [
    "from sklearn.metrics import f1_score\n",
    "from sklearn.model_selection import cross_val_score"
   ]
  },
  {
   "cell_type": "code",
   "execution_count": 58,
   "id": "c9f809ee",
   "metadata": {},
   "outputs": [
    {
     "data": {
      "text/plain": [
       "array([0.91666667, 0.91666667, 0.91666667, 0.91666667, 0.91428571])"
      ]
     },
     "execution_count": 58,
     "metadata": {},
     "output_type": "execute_result"
    }
   ],
   "source": [
    "cross_val_score(model, X_train, y_train, cv=5,scoring='accuracy')"
   ]
  },
  {
   "cell_type": "code",
   "execution_count": 54,
   "id": "23208196",
   "metadata": {
    "scrolled": true
   },
   "outputs": [],
   "source": [
    "# 필요 패키지 설치\n",
    "# !pip install pycaret"
   ]
  },
  {
   "cell_type": "code",
   "execution_count": 55,
   "id": "c87babd3",
   "metadata": {},
   "outputs": [],
   "source": [
    "import jinja2\n",
    "from pycaret.classification import *"
   ]
  },
  {
   "cell_type": "code",
   "execution_count": 59,
   "id": "a1080041",
   "metadata": {},
   "outputs": [
    {
     "data": {
      "text/html": [
       "<style type=\"text/css\">\n",
       "#T_7436e_row9_col1 {\n",
       "  background-color: lightgreen;\n",
       "}\n",
       "</style>\n",
       "<table id=\"T_7436e\">\n",
       "  <thead>\n",
       "    <tr>\n",
       "      <th class=\"blank level0\" >&nbsp;</th>\n",
       "      <th id=\"T_7436e_level0_col0\" class=\"col_heading level0 col0\" >Description</th>\n",
       "      <th id=\"T_7436e_level0_col1\" class=\"col_heading level0 col1\" >Value</th>\n",
       "    </tr>\n",
       "  </thead>\n",
       "  <tbody>\n",
       "    <tr>\n",
       "      <th id=\"T_7436e_level0_row0\" class=\"row_heading level0 row0\" >0</th>\n",
       "      <td id=\"T_7436e_row0_col0\" class=\"data row0 col0\" >Session id</td>\n",
       "      <td id=\"T_7436e_row0_col1\" class=\"data row0 col1\" >123</td>\n",
       "    </tr>\n",
       "    <tr>\n",
       "      <th id=\"T_7436e_level0_row1\" class=\"row_heading level0 row1\" >1</th>\n",
       "      <td id=\"T_7436e_row1_col0\" class=\"data row1 col0\" >Target</td>\n",
       "      <td id=\"T_7436e_row1_col1\" class=\"data row1 col1\" >y</td>\n",
       "    </tr>\n",
       "    <tr>\n",
       "      <th id=\"T_7436e_level0_row2\" class=\"row_heading level0 row2\" >2</th>\n",
       "      <td id=\"T_7436e_row2_col0\" class=\"data row2 col0\" >Target type</td>\n",
       "      <td id=\"T_7436e_row2_col1\" class=\"data row2 col1\" >Binary</td>\n",
       "    </tr>\n",
       "    <tr>\n",
       "      <th id=\"T_7436e_level0_row3\" class=\"row_heading level0 row3\" >3</th>\n",
       "      <td id=\"T_7436e_row3_col0\" class=\"data row3 col0\" >Original data shape</td>\n",
       "      <td id=\"T_7436e_row3_col1\" class=\"data row3 col1\" >(224, 22)</td>\n",
       "    </tr>\n",
       "    <tr>\n",
       "      <th id=\"T_7436e_level0_row4\" class=\"row_heading level0 row4\" >4</th>\n",
       "      <td id=\"T_7436e_row4_col0\" class=\"data row4 col0\" >Transformed data shape</td>\n",
       "      <td id=\"T_7436e_row4_col1\" class=\"data row4 col1\" >(224, 36)</td>\n",
       "    </tr>\n",
       "    <tr>\n",
       "      <th id=\"T_7436e_level0_row5\" class=\"row_heading level0 row5\" >5</th>\n",
       "      <td id=\"T_7436e_row5_col0\" class=\"data row5 col0\" >Transformed train set shape</td>\n",
       "      <td id=\"T_7436e_row5_col1\" class=\"data row5 col1\" >(156, 36)</td>\n",
       "    </tr>\n",
       "    <tr>\n",
       "      <th id=\"T_7436e_level0_row6\" class=\"row_heading level0 row6\" >6</th>\n",
       "      <td id=\"T_7436e_row6_col0\" class=\"data row6 col0\" >Transformed test set shape</td>\n",
       "      <td id=\"T_7436e_row6_col1\" class=\"data row6 col1\" >(68, 36)</td>\n",
       "    </tr>\n",
       "    <tr>\n",
       "      <th id=\"T_7436e_level0_row7\" class=\"row_heading level0 row7\" >7</th>\n",
       "      <td id=\"T_7436e_row7_col0\" class=\"data row7 col0\" >Numeric features</td>\n",
       "      <td id=\"T_7436e_row7_col1\" class=\"data row7 col1\" >19</td>\n",
       "    </tr>\n",
       "    <tr>\n",
       "      <th id=\"T_7436e_level0_row8\" class=\"row_heading level0 row8\" >8</th>\n",
       "      <td id=\"T_7436e_row8_col0\" class=\"data row8 col0\" >Categorical features</td>\n",
       "      <td id=\"T_7436e_row8_col1\" class=\"data row8 col1\" >2</td>\n",
       "    </tr>\n",
       "    <tr>\n",
       "      <th id=\"T_7436e_level0_row9\" class=\"row_heading level0 row9\" >9</th>\n",
       "      <td id=\"T_7436e_row9_col0\" class=\"data row9 col0\" >Preprocess</td>\n",
       "      <td id=\"T_7436e_row9_col1\" class=\"data row9 col1\" >True</td>\n",
       "    </tr>\n",
       "    <tr>\n",
       "      <th id=\"T_7436e_level0_row10\" class=\"row_heading level0 row10\" >10</th>\n",
       "      <td id=\"T_7436e_row10_col0\" class=\"data row10 col0\" >Imputation type</td>\n",
       "      <td id=\"T_7436e_row10_col1\" class=\"data row10 col1\" >simple</td>\n",
       "    </tr>\n",
       "    <tr>\n",
       "      <th id=\"T_7436e_level0_row11\" class=\"row_heading level0 row11\" >11</th>\n",
       "      <td id=\"T_7436e_row11_col0\" class=\"data row11 col0\" >Numeric imputation</td>\n",
       "      <td id=\"T_7436e_row11_col1\" class=\"data row11 col1\" >mean</td>\n",
       "    </tr>\n",
       "    <tr>\n",
       "      <th id=\"T_7436e_level0_row12\" class=\"row_heading level0 row12\" >12</th>\n",
       "      <td id=\"T_7436e_row12_col0\" class=\"data row12 col0\" >Categorical imputation</td>\n",
       "      <td id=\"T_7436e_row12_col1\" class=\"data row12 col1\" >mode</td>\n",
       "    </tr>\n",
       "    <tr>\n",
       "      <th id=\"T_7436e_level0_row13\" class=\"row_heading level0 row13\" >13</th>\n",
       "      <td id=\"T_7436e_row13_col0\" class=\"data row13 col0\" >Maximum one-hot encoding</td>\n",
       "      <td id=\"T_7436e_row13_col1\" class=\"data row13 col1\" >25</td>\n",
       "    </tr>\n",
       "    <tr>\n",
       "      <th id=\"T_7436e_level0_row14\" class=\"row_heading level0 row14\" >14</th>\n",
       "      <td id=\"T_7436e_row14_col0\" class=\"data row14 col0\" >Encoding method</td>\n",
       "      <td id=\"T_7436e_row14_col1\" class=\"data row14 col1\" >None</td>\n",
       "    </tr>\n",
       "    <tr>\n",
       "      <th id=\"T_7436e_level0_row15\" class=\"row_heading level0 row15\" >15</th>\n",
       "      <td id=\"T_7436e_row15_col0\" class=\"data row15 col0\" >Fold Generator</td>\n",
       "      <td id=\"T_7436e_row15_col1\" class=\"data row15 col1\" >StratifiedKFold</td>\n",
       "    </tr>\n",
       "    <tr>\n",
       "      <th id=\"T_7436e_level0_row16\" class=\"row_heading level0 row16\" >16</th>\n",
       "      <td id=\"T_7436e_row16_col0\" class=\"data row16 col0\" >Fold Number</td>\n",
       "      <td id=\"T_7436e_row16_col1\" class=\"data row16 col1\" >10</td>\n",
       "    </tr>\n",
       "    <tr>\n",
       "      <th id=\"T_7436e_level0_row17\" class=\"row_heading level0 row17\" >17</th>\n",
       "      <td id=\"T_7436e_row17_col0\" class=\"data row17 col0\" >CPU Jobs</td>\n",
       "      <td id=\"T_7436e_row17_col1\" class=\"data row17 col1\" >-1</td>\n",
       "    </tr>\n",
       "    <tr>\n",
       "      <th id=\"T_7436e_level0_row18\" class=\"row_heading level0 row18\" >18</th>\n",
       "      <td id=\"T_7436e_row18_col0\" class=\"data row18 col0\" >Use GPU</td>\n",
       "      <td id=\"T_7436e_row18_col1\" class=\"data row18 col1\" >False</td>\n",
       "    </tr>\n",
       "    <tr>\n",
       "      <th id=\"T_7436e_level0_row19\" class=\"row_heading level0 row19\" >19</th>\n",
       "      <td id=\"T_7436e_row19_col0\" class=\"data row19 col0\" >Log Experiment</td>\n",
       "      <td id=\"T_7436e_row19_col1\" class=\"data row19 col1\" >False</td>\n",
       "    </tr>\n",
       "    <tr>\n",
       "      <th id=\"T_7436e_level0_row20\" class=\"row_heading level0 row20\" >20</th>\n",
       "      <td id=\"T_7436e_row20_col0\" class=\"data row20 col0\" >Experiment Name</td>\n",
       "      <td id=\"T_7436e_row20_col1\" class=\"data row20 col1\" >clf-default-name</td>\n",
       "    </tr>\n",
       "    <tr>\n",
       "      <th id=\"T_7436e_level0_row21\" class=\"row_heading level0 row21\" >21</th>\n",
       "      <td id=\"T_7436e_row21_col0\" class=\"data row21 col0\" >USI</td>\n",
       "      <td id=\"T_7436e_row21_col1\" class=\"data row21 col1\" >fd52</td>\n",
       "    </tr>\n",
       "  </tbody>\n",
       "</table>\n"
      ],
      "text/plain": [
       "<pandas.io.formats.style.Styler at 0x7fe70b0f00a0>"
      ]
     },
     "metadata": {},
     "output_type": "display_data"
    }
   ],
   "source": [
    "s = setup(df1_dataset, target = 'y', session_id=123)"
   ]
  },
  {
   "cell_type": "code",
   "execution_count": 60,
   "id": "a7310d70",
   "metadata": {},
   "outputs": [],
   "source": [
    "from pycaret.classification import ClassificationExperiment\n",
    "exp = ClassificationExperiment()"
   ]
  },
  {
   "cell_type": "code",
   "execution_count": 63,
   "id": "4fcee15e",
   "metadata": {},
   "outputs": [
    {
     "data": {
      "text/html": [
       "<style type=\"text/css\">\n",
       "#T_8c605_row9_col1 {\n",
       "  background-color: lightgreen;\n",
       "}\n",
       "</style>\n",
       "<table id=\"T_8c605\">\n",
       "  <thead>\n",
       "    <tr>\n",
       "      <th class=\"blank level0\" >&nbsp;</th>\n",
       "      <th id=\"T_8c605_level0_col0\" class=\"col_heading level0 col0\" >Description</th>\n",
       "      <th id=\"T_8c605_level0_col1\" class=\"col_heading level0 col1\" >Value</th>\n",
       "    </tr>\n",
       "  </thead>\n",
       "  <tbody>\n",
       "    <tr>\n",
       "      <th id=\"T_8c605_level0_row0\" class=\"row_heading level0 row0\" >0</th>\n",
       "      <td id=\"T_8c605_row0_col0\" class=\"data row0 col0\" >Session id</td>\n",
       "      <td id=\"T_8c605_row0_col1\" class=\"data row0 col1\" >123</td>\n",
       "    </tr>\n",
       "    <tr>\n",
       "      <th id=\"T_8c605_level0_row1\" class=\"row_heading level0 row1\" >1</th>\n",
       "      <td id=\"T_8c605_row1_col0\" class=\"data row1 col0\" >Target</td>\n",
       "      <td id=\"T_8c605_row1_col1\" class=\"data row1 col1\" >y</td>\n",
       "    </tr>\n",
       "    <tr>\n",
       "      <th id=\"T_8c605_level0_row2\" class=\"row_heading level0 row2\" >2</th>\n",
       "      <td id=\"T_8c605_row2_col0\" class=\"data row2 col0\" >Target type</td>\n",
       "      <td id=\"T_8c605_row2_col1\" class=\"data row2 col1\" >Binary</td>\n",
       "    </tr>\n",
       "    <tr>\n",
       "      <th id=\"T_8c605_level0_row3\" class=\"row_heading level0 row3\" >3</th>\n",
       "      <td id=\"T_8c605_row3_col0\" class=\"data row3 col0\" >Original data shape</td>\n",
       "      <td id=\"T_8c605_row3_col1\" class=\"data row3 col1\" >(224, 22)</td>\n",
       "    </tr>\n",
       "    <tr>\n",
       "      <th id=\"T_8c605_level0_row4\" class=\"row_heading level0 row4\" >4</th>\n",
       "      <td id=\"T_8c605_row4_col0\" class=\"data row4 col0\" >Transformed data shape</td>\n",
       "      <td id=\"T_8c605_row4_col1\" class=\"data row4 col1\" >(224, 36)</td>\n",
       "    </tr>\n",
       "    <tr>\n",
       "      <th id=\"T_8c605_level0_row5\" class=\"row_heading level0 row5\" >5</th>\n",
       "      <td id=\"T_8c605_row5_col0\" class=\"data row5 col0\" >Transformed train set shape</td>\n",
       "      <td id=\"T_8c605_row5_col1\" class=\"data row5 col1\" >(156, 36)</td>\n",
       "    </tr>\n",
       "    <tr>\n",
       "      <th id=\"T_8c605_level0_row6\" class=\"row_heading level0 row6\" >6</th>\n",
       "      <td id=\"T_8c605_row6_col0\" class=\"data row6 col0\" >Transformed test set shape</td>\n",
       "      <td id=\"T_8c605_row6_col1\" class=\"data row6 col1\" >(68, 36)</td>\n",
       "    </tr>\n",
       "    <tr>\n",
       "      <th id=\"T_8c605_level0_row7\" class=\"row_heading level0 row7\" >7</th>\n",
       "      <td id=\"T_8c605_row7_col0\" class=\"data row7 col0\" >Numeric features</td>\n",
       "      <td id=\"T_8c605_row7_col1\" class=\"data row7 col1\" >19</td>\n",
       "    </tr>\n",
       "    <tr>\n",
       "      <th id=\"T_8c605_level0_row8\" class=\"row_heading level0 row8\" >8</th>\n",
       "      <td id=\"T_8c605_row8_col0\" class=\"data row8 col0\" >Categorical features</td>\n",
       "      <td id=\"T_8c605_row8_col1\" class=\"data row8 col1\" >2</td>\n",
       "    </tr>\n",
       "    <tr>\n",
       "      <th id=\"T_8c605_level0_row9\" class=\"row_heading level0 row9\" >9</th>\n",
       "      <td id=\"T_8c605_row9_col0\" class=\"data row9 col0\" >Preprocess</td>\n",
       "      <td id=\"T_8c605_row9_col1\" class=\"data row9 col1\" >True</td>\n",
       "    </tr>\n",
       "    <tr>\n",
       "      <th id=\"T_8c605_level0_row10\" class=\"row_heading level0 row10\" >10</th>\n",
       "      <td id=\"T_8c605_row10_col0\" class=\"data row10 col0\" >Imputation type</td>\n",
       "      <td id=\"T_8c605_row10_col1\" class=\"data row10 col1\" >simple</td>\n",
       "    </tr>\n",
       "    <tr>\n",
       "      <th id=\"T_8c605_level0_row11\" class=\"row_heading level0 row11\" >11</th>\n",
       "      <td id=\"T_8c605_row11_col0\" class=\"data row11 col0\" >Numeric imputation</td>\n",
       "      <td id=\"T_8c605_row11_col1\" class=\"data row11 col1\" >mean</td>\n",
       "    </tr>\n",
       "    <tr>\n",
       "      <th id=\"T_8c605_level0_row12\" class=\"row_heading level0 row12\" >12</th>\n",
       "      <td id=\"T_8c605_row12_col0\" class=\"data row12 col0\" >Categorical imputation</td>\n",
       "      <td id=\"T_8c605_row12_col1\" class=\"data row12 col1\" >mode</td>\n",
       "    </tr>\n",
       "    <tr>\n",
       "      <th id=\"T_8c605_level0_row13\" class=\"row_heading level0 row13\" >13</th>\n",
       "      <td id=\"T_8c605_row13_col0\" class=\"data row13 col0\" >Maximum one-hot encoding</td>\n",
       "      <td id=\"T_8c605_row13_col1\" class=\"data row13 col1\" >25</td>\n",
       "    </tr>\n",
       "    <tr>\n",
       "      <th id=\"T_8c605_level0_row14\" class=\"row_heading level0 row14\" >14</th>\n",
       "      <td id=\"T_8c605_row14_col0\" class=\"data row14 col0\" >Encoding method</td>\n",
       "      <td id=\"T_8c605_row14_col1\" class=\"data row14 col1\" >None</td>\n",
       "    </tr>\n",
       "    <tr>\n",
       "      <th id=\"T_8c605_level0_row15\" class=\"row_heading level0 row15\" >15</th>\n",
       "      <td id=\"T_8c605_row15_col0\" class=\"data row15 col0\" >Fold Generator</td>\n",
       "      <td id=\"T_8c605_row15_col1\" class=\"data row15 col1\" >StratifiedKFold</td>\n",
       "    </tr>\n",
       "    <tr>\n",
       "      <th id=\"T_8c605_level0_row16\" class=\"row_heading level0 row16\" >16</th>\n",
       "      <td id=\"T_8c605_row16_col0\" class=\"data row16 col0\" >Fold Number</td>\n",
       "      <td id=\"T_8c605_row16_col1\" class=\"data row16 col1\" >10</td>\n",
       "    </tr>\n",
       "    <tr>\n",
       "      <th id=\"T_8c605_level0_row17\" class=\"row_heading level0 row17\" >17</th>\n",
       "      <td id=\"T_8c605_row17_col0\" class=\"data row17 col0\" >CPU Jobs</td>\n",
       "      <td id=\"T_8c605_row17_col1\" class=\"data row17 col1\" >-1</td>\n",
       "    </tr>\n",
       "    <tr>\n",
       "      <th id=\"T_8c605_level0_row18\" class=\"row_heading level0 row18\" >18</th>\n",
       "      <td id=\"T_8c605_row18_col0\" class=\"data row18 col0\" >Use GPU</td>\n",
       "      <td id=\"T_8c605_row18_col1\" class=\"data row18 col1\" >False</td>\n",
       "    </tr>\n",
       "    <tr>\n",
       "      <th id=\"T_8c605_level0_row19\" class=\"row_heading level0 row19\" >19</th>\n",
       "      <td id=\"T_8c605_row19_col0\" class=\"data row19 col0\" >Log Experiment</td>\n",
       "      <td id=\"T_8c605_row19_col1\" class=\"data row19 col1\" >False</td>\n",
       "    </tr>\n",
       "    <tr>\n",
       "      <th id=\"T_8c605_level0_row20\" class=\"row_heading level0 row20\" >20</th>\n",
       "      <td id=\"T_8c605_row20_col0\" class=\"data row20 col0\" >Experiment Name</td>\n",
       "      <td id=\"T_8c605_row20_col1\" class=\"data row20 col1\" >clf-default-name</td>\n",
       "    </tr>\n",
       "    <tr>\n",
       "      <th id=\"T_8c605_level0_row21\" class=\"row_heading level0 row21\" >21</th>\n",
       "      <td id=\"T_8c605_row21_col0\" class=\"data row21 col0\" >USI</td>\n",
       "      <td id=\"T_8c605_row21_col1\" class=\"data row21 col1\" >bdcb</td>\n",
       "    </tr>\n",
       "  </tbody>\n",
       "</table>\n"
      ],
      "text/plain": [
       "<pandas.io.formats.style.Styler at 0x7fe839f04910>"
      ]
     },
     "metadata": {},
     "output_type": "display_data"
    },
    {
     "data": {
      "text/plain": [
       "<pycaret.classification.oop.ClassificationExperiment at 0x7fe70b16bc10>"
      ]
     },
     "execution_count": 63,
     "metadata": {},
     "output_type": "execute_result"
    }
   ],
   "source": [
    "exp.setup(df1_dataset, target = 'y', session_id=123)"
   ]
  },
  {
   "cell_type": "code",
   "execution_count": 73,
   "id": "1d2d1334",
   "metadata": {},
   "outputs": [],
   "source": [
    "# best = compare_models()"
   ]
  },
  {
   "cell_type": "code",
   "execution_count": 87,
   "id": "5eedc535",
   "metadata": {},
   "outputs": [
    {
     "data": {
      "text/html": [],
      "text/plain": [
       "<IPython.core.display.HTML object>"
      ]
     },
     "metadata": {},
     "output_type": "display_data"
    },
    {
     "data": {
      "text/html": [
       "<style type=\"text/css\">\n",
       "#T_b3792 th {\n",
       "  text-align: left;\n",
       "}\n",
       "#T_b3792_row0_col0, #T_b3792_row0_col1, #T_b3792_row0_col2, #T_b3792_row0_col3, #T_b3792_row1_col0, #T_b3792_row1_col1, #T_b3792_row1_col2, #T_b3792_row1_col3, #T_b3792_row1_col4, #T_b3792_row1_col5, #T_b3792_row1_col6, #T_b3792_row1_col7, #T_b3792_row2_col0, #T_b3792_row2_col1, #T_b3792_row2_col2, #T_b3792_row2_col3, #T_b3792_row2_col4, #T_b3792_row2_col5, #T_b3792_row2_col6, #T_b3792_row2_col7, #T_b3792_row3_col0, #T_b3792_row3_col1, #T_b3792_row3_col2, #T_b3792_row3_col3, #T_b3792_row3_col4, #T_b3792_row3_col5, #T_b3792_row3_col6, #T_b3792_row3_col7, #T_b3792_row4_col0, #T_b3792_row4_col1, #T_b3792_row4_col2, #T_b3792_row4_col3, #T_b3792_row4_col4, #T_b3792_row4_col5, #T_b3792_row4_col6, #T_b3792_row4_col7, #T_b3792_row5_col0, #T_b3792_row5_col1, #T_b3792_row5_col2, #T_b3792_row5_col3, #T_b3792_row5_col4, #T_b3792_row5_col5, #T_b3792_row5_col6, #T_b3792_row5_col7, #T_b3792_row6_col0, #T_b3792_row6_col1, #T_b3792_row6_col2, #T_b3792_row6_col3, #T_b3792_row6_col4, #T_b3792_row6_col5, #T_b3792_row6_col6, #T_b3792_row6_col7, #T_b3792_row7_col0, #T_b3792_row7_col1, #T_b3792_row7_col2, #T_b3792_row7_col3, #T_b3792_row7_col4, #T_b3792_row7_col5, #T_b3792_row7_col6, #T_b3792_row7_col7, #T_b3792_row8_col0, #T_b3792_row8_col1, #T_b3792_row8_col2, #T_b3792_row8_col3, #T_b3792_row8_col4, #T_b3792_row8_col5, #T_b3792_row8_col6, #T_b3792_row8_col7, #T_b3792_row9_col0, #T_b3792_row9_col1, #T_b3792_row9_col2, #T_b3792_row9_col3, #T_b3792_row9_col4, #T_b3792_row9_col5, #T_b3792_row9_col6, #T_b3792_row9_col7, #T_b3792_row10_col0, #T_b3792_row10_col1, #T_b3792_row10_col2, #T_b3792_row10_col3, #T_b3792_row10_col4, #T_b3792_row10_col5, #T_b3792_row10_col6, #T_b3792_row10_col7, #T_b3792_row11_col0, #T_b3792_row11_col1, #T_b3792_row11_col2, #T_b3792_row11_col4, #T_b3792_row11_col5, #T_b3792_row11_col6, #T_b3792_row11_col7, #T_b3792_row12_col0, #T_b3792_row12_col1, #T_b3792_row12_col2, #T_b3792_row12_col3, #T_b3792_row12_col4, #T_b3792_row12_col5, #T_b3792_row12_col6, #T_b3792_row12_col7, #T_b3792_row13_col0, #T_b3792_row13_col3, #T_b3792_row13_col4, #T_b3792_row13_col5, #T_b3792_row13_col6, #T_b3792_row13_col7, #T_b3792_row14_col0, #T_b3792_row14_col2, #T_b3792_row14_col3, #T_b3792_row14_col4, #T_b3792_row14_col5, #T_b3792_row14_col6, #T_b3792_row14_col7, #T_b3792_row15_col0, #T_b3792_row15_col1, #T_b3792_row15_col2, #T_b3792_row15_col3, #T_b3792_row15_col4, #T_b3792_row15_col5, #T_b3792_row15_col6, #T_b3792_row15_col7 {\n",
       "  text-align: left;\n",
       "}\n",
       "#T_b3792_row0_col4, #T_b3792_row0_col5, #T_b3792_row0_col6, #T_b3792_row0_col7, #T_b3792_row11_col3, #T_b3792_row13_col1, #T_b3792_row13_col2, #T_b3792_row14_col1 {\n",
       "  text-align: left;\n",
       "  background-color: yellow;\n",
       "}\n",
       "#T_b3792_row0_col8, #T_b3792_row1_col8, #T_b3792_row2_col8, #T_b3792_row3_col8, #T_b3792_row4_col8, #T_b3792_row5_col8, #T_b3792_row6_col8, #T_b3792_row7_col8, #T_b3792_row8_col8, #T_b3792_row9_col8, #T_b3792_row10_col8, #T_b3792_row11_col8, #T_b3792_row12_col8, #T_b3792_row13_col8, #T_b3792_row15_col8 {\n",
       "  text-align: left;\n",
       "  background-color: lightgrey;\n",
       "}\n",
       "#T_b3792_row14_col8 {\n",
       "  text-align: left;\n",
       "  background-color: yellow;\n",
       "  background-color: lightgrey;\n",
       "}\n",
       "</style>\n",
       "<table id=\"T_b3792\">\n",
       "  <thead>\n",
       "    <tr>\n",
       "      <th class=\"blank level0\" >&nbsp;</th>\n",
       "      <th id=\"T_b3792_level0_col0\" class=\"col_heading level0 col0\" >Model</th>\n",
       "      <th id=\"T_b3792_level0_col1\" class=\"col_heading level0 col1\" >Accuracy</th>\n",
       "      <th id=\"T_b3792_level0_col2\" class=\"col_heading level0 col2\" >AUC</th>\n",
       "      <th id=\"T_b3792_level0_col3\" class=\"col_heading level0 col3\" >Recall</th>\n",
       "      <th id=\"T_b3792_level0_col4\" class=\"col_heading level0 col4\" >Prec.</th>\n",
       "      <th id=\"T_b3792_level0_col5\" class=\"col_heading level0 col5\" >F1</th>\n",
       "      <th id=\"T_b3792_level0_col6\" class=\"col_heading level0 col6\" >Kappa</th>\n",
       "      <th id=\"T_b3792_level0_col7\" class=\"col_heading level0 col7\" >MCC</th>\n",
       "      <th id=\"T_b3792_level0_col8\" class=\"col_heading level0 col8\" >TT (Sec)</th>\n",
       "    </tr>\n",
       "  </thead>\n",
       "  <tbody>\n",
       "    <tr>\n",
       "      <th id=\"T_b3792_level0_row0\" class=\"row_heading level0 row0\" >lda</th>\n",
       "      <td id=\"T_b3792_row0_col0\" class=\"data row0 col0\" >Linear Discriminant Analysis</td>\n",
       "      <td id=\"T_b3792_row0_col1\" class=\"data row0 col1\" >0.9108</td>\n",
       "      <td id=\"T_b3792_row0_col2\" class=\"data row0 col2\" >0.8350</td>\n",
       "      <td id=\"T_b3792_row0_col3\" class=\"data row0 col3\" >0.4000</td>\n",
       "      <td id=\"T_b3792_row0_col4\" class=\"data row0 col4\" >0.4000</td>\n",
       "      <td id=\"T_b3792_row0_col5\" class=\"data row0 col5\" >0.3833</td>\n",
       "      <td id=\"T_b3792_row0_col6\" class=\"data row0 col6\" >0.3420</td>\n",
       "      <td id=\"T_b3792_row0_col7\" class=\"data row0 col7\" >0.3514</td>\n",
       "      <td id=\"T_b3792_row0_col8\" class=\"data row0 col8\" >0.0420</td>\n",
       "    </tr>\n",
       "    <tr>\n",
       "      <th id=\"T_b3792_level0_row1\" class=\"row_heading level0 row1\" >svm</th>\n",
       "      <td id=\"T_b3792_row1_col0\" class=\"data row1 col0\" >SVM - Linear Kernel</td>\n",
       "      <td id=\"T_b3792_row1_col1\" class=\"data row1 col1\" >0.8662</td>\n",
       "      <td id=\"T_b3792_row1_col2\" class=\"data row1 col2\" >0.0000</td>\n",
       "      <td id=\"T_b3792_row1_col3\" class=\"data row1 col3\" >0.5000</td>\n",
       "      <td id=\"T_b3792_row1_col4\" class=\"data row1 col4\" >0.2500</td>\n",
       "      <td id=\"T_b3792_row1_col5\" class=\"data row1 col5\" >0.3119</td>\n",
       "      <td id=\"T_b3792_row1_col6\" class=\"data row1 col6\" >0.2587</td>\n",
       "      <td id=\"T_b3792_row1_col7\" class=\"data row1 col7\" >0.2890</td>\n",
       "      <td id=\"T_b3792_row1_col8\" class=\"data row1 col8\" >0.2450</td>\n",
       "    </tr>\n",
       "    <tr>\n",
       "      <th id=\"T_b3792_level0_row2\" class=\"row_heading level0 row2\" >xgboost</th>\n",
       "      <td id=\"T_b3792_row2_col0\" class=\"data row2 col0\" >Extreme Gradient Boosting</td>\n",
       "      <td id=\"T_b3792_row2_col1\" class=\"data row2 col1\" >0.8967</td>\n",
       "      <td id=\"T_b3792_row2_col2\" class=\"data row2 col2\" >0.8375</td>\n",
       "      <td id=\"T_b3792_row2_col3\" class=\"data row2 col3\" >0.3000</td>\n",
       "      <td id=\"T_b3792_row2_col4\" class=\"data row2 col4\" >0.2333</td>\n",
       "      <td id=\"T_b3792_row2_col5\" class=\"data row2 col5\" >0.2500</td>\n",
       "      <td id=\"T_b3792_row2_col6\" class=\"data row2 col6\" >0.2253</td>\n",
       "      <td id=\"T_b3792_row2_col7\" class=\"data row2 col7\" >0.2328</td>\n",
       "      <td id=\"T_b3792_row2_col8\" class=\"data row2 col8\" >0.0500</td>\n",
       "    </tr>\n",
       "    <tr>\n",
       "      <th id=\"T_b3792_level0_row3\" class=\"row_heading level0 row3\" >ada</th>\n",
       "      <td id=\"T_b3792_row3_col0\" class=\"data row3 col0\" >Ada Boost Classifier</td>\n",
       "      <td id=\"T_b3792_row3_col1\" class=\"data row3 col1\" >0.8729</td>\n",
       "      <td id=\"T_b3792_row3_col2\" class=\"data row3 col2\" >0.6514</td>\n",
       "      <td id=\"T_b3792_row3_col3\" class=\"data row3 col3\" >0.3000</td>\n",
       "      <td id=\"T_b3792_row3_col4\" class=\"data row3 col4\" >0.2200</td>\n",
       "      <td id=\"T_b3792_row3_col5\" class=\"data row3 col5\" >0.2333</td>\n",
       "      <td id=\"T_b3792_row3_col6\" class=\"data row3 col6\" >0.1826</td>\n",
       "      <td id=\"T_b3792_row3_col7\" class=\"data row3 col7\" >0.1935</td>\n",
       "      <td id=\"T_b3792_row3_col8\" class=\"data row3 col8\" >0.0590</td>\n",
       "    </tr>\n",
       "    <tr>\n",
       "      <th id=\"T_b3792_level0_row4\" class=\"row_heading level0 row4\" >dt</th>\n",
       "      <td id=\"T_b3792_row4_col0\" class=\"data row4 col0\" >Decision Tree Classifier</td>\n",
       "      <td id=\"T_b3792_row4_col1\" class=\"data row4 col1\" >0.8842</td>\n",
       "      <td id=\"T_b3792_row4_col2\" class=\"data row4 col2\" >0.6433</td>\n",
       "      <td id=\"T_b3792_row4_col3\" class=\"data row4 col3\" >0.2500</td>\n",
       "      <td id=\"T_b3792_row4_col4\" class=\"data row4 col4\" >0.2500</td>\n",
       "      <td id=\"T_b3792_row4_col5\" class=\"data row4 col5\" >0.2333</td>\n",
       "      <td id=\"T_b3792_row4_col6\" class=\"data row4 col6\" >0.1844</td>\n",
       "      <td id=\"T_b3792_row4_col7\" class=\"data row4 col7\" >0.1916</td>\n",
       "      <td id=\"T_b3792_row4_col8\" class=\"data row4 col8\" >0.2490</td>\n",
       "    </tr>\n",
       "    <tr>\n",
       "      <th id=\"T_b3792_level0_row5\" class=\"row_heading level0 row5\" >lightgbm</th>\n",
       "      <td id=\"T_b3792_row5_col0\" class=\"data row5 col0\" >Light Gradient Boosting Machine</td>\n",
       "      <td id=\"T_b3792_row5_col1\" class=\"data row5 col1\" >0.9042</td>\n",
       "      <td id=\"T_b3792_row5_col2\" class=\"data row5 col2\" >0.8058</td>\n",
       "      <td id=\"T_b3792_row5_col3\" class=\"data row5 col3\" >0.2000</td>\n",
       "      <td id=\"T_b3792_row5_col4\" class=\"data row5 col4\" >0.2000</td>\n",
       "      <td id=\"T_b3792_row5_col5\" class=\"data row5 col5\" >0.2000</td>\n",
       "      <td id=\"T_b3792_row5_col6\" class=\"data row5 col6\" >0.1700</td>\n",
       "      <td id=\"T_b3792_row5_col7\" class=\"data row5 col7\" >0.1693</td>\n",
       "      <td id=\"T_b3792_row5_col8\" class=\"data row5 col8\" >0.1080</td>\n",
       "    </tr>\n",
       "    <tr>\n",
       "      <th id=\"T_b3792_level0_row6\" class=\"row_heading level0 row6\" >et</th>\n",
       "      <td id=\"T_b3792_row6_col0\" class=\"data row6 col0\" >Extra Trees Classifier</td>\n",
       "      <td id=\"T_b3792_row6_col1\" class=\"data row6 col1\" >0.8971</td>\n",
       "      <td id=\"T_b3792_row6_col2\" class=\"data row6 col2\" >0.7898</td>\n",
       "      <td id=\"T_b3792_row6_col3\" class=\"data row6 col3\" >0.1500</td>\n",
       "      <td id=\"T_b3792_row6_col4\" class=\"data row6 col4\" >0.2000</td>\n",
       "      <td id=\"T_b3792_row6_col5\" class=\"data row6 col5\" >0.1667</td>\n",
       "      <td id=\"T_b3792_row6_col6\" class=\"data row6 col6\" >0.1325</td>\n",
       "      <td id=\"T_b3792_row6_col7\" class=\"data row6 col7\" >0.1364</td>\n",
       "      <td id=\"T_b3792_row6_col8\" class=\"data row6 col8\" >0.0900</td>\n",
       "    </tr>\n",
       "    <tr>\n",
       "      <th id=\"T_b3792_level0_row7\" class=\"row_heading level0 row7\" >ridge</th>\n",
       "      <td id=\"T_b3792_row7_col0\" class=\"data row7 col0\" >Ridge Classifier</td>\n",
       "      <td id=\"T_b3792_row7_col1\" class=\"data row7 col1\" >0.9108</td>\n",
       "      <td id=\"T_b3792_row7_col2\" class=\"data row7 col2\" >0.0000</td>\n",
       "      <td id=\"T_b3792_row7_col3\" class=\"data row7 col3\" >0.1000</td>\n",
       "      <td id=\"T_b3792_row7_col4\" class=\"data row7 col4\" >0.1000</td>\n",
       "      <td id=\"T_b3792_row7_col5\" class=\"data row7 col5\" >0.1000</td>\n",
       "      <td id=\"T_b3792_row7_col6\" class=\"data row7 col6\" >0.0857</td>\n",
       "      <td id=\"T_b3792_row7_col7\" class=\"data row7 col7\" >0.0857</td>\n",
       "      <td id=\"T_b3792_row7_col8\" class=\"data row7 col8\" >0.2320</td>\n",
       "    </tr>\n",
       "    <tr>\n",
       "      <th id=\"T_b3792_level0_row8\" class=\"row_heading level0 row8\" >rf</th>\n",
       "      <td id=\"T_b3792_row8_col0\" class=\"data row8 col0\" >Random Forest Classifier</td>\n",
       "      <td id=\"T_b3792_row8_col1\" class=\"data row8 col1\" >0.9104</td>\n",
       "      <td id=\"T_b3792_row8_col2\" class=\"data row8 col2\" >0.7902</td>\n",
       "      <td id=\"T_b3792_row8_col3\" class=\"data row8 col3\" >0.1000</td>\n",
       "      <td id=\"T_b3792_row8_col4\" class=\"data row8 col4\" >0.1000</td>\n",
       "      <td id=\"T_b3792_row8_col5\" class=\"data row8 col5\" >0.1000</td>\n",
       "      <td id=\"T_b3792_row8_col6\" class=\"data row8 col6\" >0.0838</td>\n",
       "      <td id=\"T_b3792_row8_col7\" class=\"data row8 col7\" >0.0831</td>\n",
       "      <td id=\"T_b3792_row8_col8\" class=\"data row8 col8\" >0.0880</td>\n",
       "    </tr>\n",
       "    <tr>\n",
       "      <th id=\"T_b3792_level0_row9\" class=\"row_heading level0 row9\" >qda</th>\n",
       "      <td id=\"T_b3792_row9_col0\" class=\"data row9 col0\" >Quadratic Discriminant Analysis</td>\n",
       "      <td id=\"T_b3792_row9_col1\" class=\"data row9 col1\" >0.9038</td>\n",
       "      <td id=\"T_b3792_row9_col2\" class=\"data row9 col2\" >0.5357</td>\n",
       "      <td id=\"T_b3792_row9_col3\" class=\"data row9 col3\" >0.1000</td>\n",
       "      <td id=\"T_b3792_row9_col4\" class=\"data row9 col4\" >0.1000</td>\n",
       "      <td id=\"T_b3792_row9_col5\" class=\"data row9 col5\" >0.1000</td>\n",
       "      <td id=\"T_b3792_row9_col6\" class=\"data row9 col6\" >0.0812</td>\n",
       "      <td id=\"T_b3792_row9_col7\" class=\"data row9 col7\" >0.0798</td>\n",
       "      <td id=\"T_b3792_row9_col8\" class=\"data row9 col8\" >0.0460</td>\n",
       "    </tr>\n",
       "    <tr>\n",
       "      <th id=\"T_b3792_level0_row10\" class=\"row_heading level0 row10\" >catboost</th>\n",
       "      <td id=\"T_b3792_row10_col0\" class=\"data row10 col0\" >CatBoost Classifier</td>\n",
       "      <td id=\"T_b3792_row10_col1\" class=\"data row10 col1\" >0.8975</td>\n",
       "      <td id=\"T_b3792_row10_col2\" class=\"data row10 col2\" >0.8255</td>\n",
       "      <td id=\"T_b3792_row10_col3\" class=\"data row10 col3\" >0.1000</td>\n",
       "      <td id=\"T_b3792_row10_col4\" class=\"data row10 col4\" >0.1000</td>\n",
       "      <td id=\"T_b3792_row10_col5\" class=\"data row10 col5\" >0.1000</td>\n",
       "      <td id=\"T_b3792_row10_col6\" class=\"data row10 col6\" >0.0760</td>\n",
       "      <td id=\"T_b3792_row10_col7\" class=\"data row10 col7\" >0.0752</td>\n",
       "      <td id=\"T_b3792_row10_col8\" class=\"data row10 col8\" >0.0590</td>\n",
       "    </tr>\n",
       "    <tr>\n",
       "      <th id=\"T_b3792_level0_row11\" class=\"row_heading level0 row11\" >nb</th>\n",
       "      <td id=\"T_b3792_row11_col0\" class=\"data row11 col0\" >Naive Bayes</td>\n",
       "      <td id=\"T_b3792_row11_col1\" class=\"data row11 col1\" >0.4942</td>\n",
       "      <td id=\"T_b3792_row11_col2\" class=\"data row11 col2\" >0.5467</td>\n",
       "      <td id=\"T_b3792_row11_col3\" class=\"data row11 col3\" >0.6000</td>\n",
       "      <td id=\"T_b3792_row11_col4\" class=\"data row11 col4\" >0.0708</td>\n",
       "      <td id=\"T_b3792_row11_col5\" class=\"data row11 col5\" >0.1253</td>\n",
       "      <td id=\"T_b3792_row11_col6\" class=\"data row11 col6\" >-0.0091</td>\n",
       "      <td id=\"T_b3792_row11_col7\" class=\"data row11 col7\" >0.0412</td>\n",
       "      <td id=\"T_b3792_row11_col8\" class=\"data row11 col8\" >0.2500</td>\n",
       "    </tr>\n",
       "    <tr>\n",
       "      <th id=\"T_b3792_level0_row12\" class=\"row_heading level0 row12\" >gbc</th>\n",
       "      <td id=\"T_b3792_row12_col0\" class=\"data row12 col0\" >Gradient Boosting Classifier</td>\n",
       "      <td id=\"T_b3792_row12_col1\" class=\"data row12 col1\" >0.8654</td>\n",
       "      <td id=\"T_b3792_row12_col2\" class=\"data row12 col2\" >0.6523</td>\n",
       "      <td id=\"T_b3792_row12_col3\" class=\"data row12 col3\" >0.1000</td>\n",
       "      <td id=\"T_b3792_row12_col4\" class=\"data row12 col4\" >0.0500</td>\n",
       "      <td id=\"T_b3792_row12_col5\" class=\"data row12 col5\" >0.0667</td>\n",
       "      <td id=\"T_b3792_row12_col6\" class=\"data row12 col6\" >0.0156</td>\n",
       "      <td id=\"T_b3792_row12_col7\" class=\"data row12 col7\" >0.0188</td>\n",
       "      <td id=\"T_b3792_row12_col8\" class=\"data row12 col8\" >0.0670</td>\n",
       "    </tr>\n",
       "    <tr>\n",
       "      <th id=\"T_b3792_level0_row13\" class=\"row_heading level0 row13\" >lr</th>\n",
       "      <td id=\"T_b3792_row13_col0\" class=\"data row13 col0\" >Logistic Regression</td>\n",
       "      <td id=\"T_b3792_row13_col1\" class=\"data row13 col1\" >0.9171</td>\n",
       "      <td id=\"T_b3792_row13_col2\" class=\"data row13 col2\" >0.8443</td>\n",
       "      <td id=\"T_b3792_row13_col3\" class=\"data row13 col3\" >0.0000</td>\n",
       "      <td id=\"T_b3792_row13_col4\" class=\"data row13 col4\" >0.0000</td>\n",
       "      <td id=\"T_b3792_row13_col5\" class=\"data row13 col5\" >0.0000</td>\n",
       "      <td id=\"T_b3792_row13_col6\" class=\"data row13 col6\" >0.0000</td>\n",
       "      <td id=\"T_b3792_row13_col7\" class=\"data row13 col7\" >0.0000</td>\n",
       "      <td id=\"T_b3792_row13_col8\" class=\"data row13 col8\" >0.3410</td>\n",
       "    </tr>\n",
       "    <tr>\n",
       "      <th id=\"T_b3792_level0_row14\" class=\"row_heading level0 row14\" >dummy</th>\n",
       "      <td id=\"T_b3792_row14_col0\" class=\"data row14 col0\" >Dummy Classifier</td>\n",
       "      <td id=\"T_b3792_row14_col1\" class=\"data row14 col1\" >0.9171</td>\n",
       "      <td id=\"T_b3792_row14_col2\" class=\"data row14 col2\" >0.5000</td>\n",
       "      <td id=\"T_b3792_row14_col3\" class=\"data row14 col3\" >0.0000</td>\n",
       "      <td id=\"T_b3792_row14_col4\" class=\"data row14 col4\" >0.0000</td>\n",
       "      <td id=\"T_b3792_row14_col5\" class=\"data row14 col5\" >0.0000</td>\n",
       "      <td id=\"T_b3792_row14_col6\" class=\"data row14 col6\" >0.0000</td>\n",
       "      <td id=\"T_b3792_row14_col7\" class=\"data row14 col7\" >0.0000</td>\n",
       "      <td id=\"T_b3792_row14_col8\" class=\"data row14 col8\" >0.0410</td>\n",
       "    </tr>\n",
       "    <tr>\n",
       "      <th id=\"T_b3792_level0_row15\" class=\"row_heading level0 row15\" >knn</th>\n",
       "      <td id=\"T_b3792_row15_col0\" class=\"data row15 col0\" >K Neighbors Classifier</td>\n",
       "      <td id=\"T_b3792_row15_col1\" class=\"data row15 col1\" >0.9108</td>\n",
       "      <td id=\"T_b3792_row15_col2\" class=\"data row15 col2\" >0.7408</td>\n",
       "      <td id=\"T_b3792_row15_col3\" class=\"data row15 col3\" >0.0000</td>\n",
       "      <td id=\"T_b3792_row15_col4\" class=\"data row15 col4\" >0.0000</td>\n",
       "      <td id=\"T_b3792_row15_col5\" class=\"data row15 col5\" >0.0000</td>\n",
       "      <td id=\"T_b3792_row15_col6\" class=\"data row15 col6\" >-0.0067</td>\n",
       "      <td id=\"T_b3792_row15_col7\" class=\"data row15 col7\" >-0.0067</td>\n",
       "      <td id=\"T_b3792_row15_col8\" class=\"data row15 col8\" >0.2590</td>\n",
       "    </tr>\n",
       "  </tbody>\n",
       "</table>\n"
      ],
      "text/plain": [
       "<pandas.io.formats.style.Styler at 0x7fe80466c2b0>"
      ]
     },
     "metadata": {},
     "output_type": "display_data"
    },
    {
     "data": {
      "text/html": [],
      "text/plain": [
       "<IPython.core.display.HTML object>"
      ]
     },
     "metadata": {},
     "output_type": "display_data"
    }
   ],
   "source": [
    "best = exp.compare_models(sort='MCC')"
   ]
  },
  {
   "cell_type": "code",
   "execution_count": 75,
   "id": "715469b9",
   "metadata": {},
   "outputs": [
    {
     "data": {
      "text/html": [],
      "text/plain": [
       "<IPython.core.display.HTML object>"
      ]
     },
     "metadata": {},
     "output_type": "display_data"
    },
    {
     "data": {
      "image/png": "[encoded data removed]",
      "text/plain": [
       "<Figure size 432x288 with 1 Axes>"
      ]
     },
     "metadata": {
      "needs_background": "light"
     },
     "output_type": "display_data"
    }
   ],
   "source": [
    "plot_model(best, plot = 'confusion_matrix')"
   ]
  },
  {
   "cell_type": "code",
   "execution_count": 76,
   "id": "fda0feb5",
   "metadata": {},
   "outputs": [
    {
     "data": {
      "text/html": [],
      "text/plain": [
       "<IPython.core.display.HTML object>"
      ]
     },
     "metadata": {},
     "output_type": "display_data"
    },
    {
     "data": {
      "image/png": "[encoded data removed]",
      "text/plain": [
       "<Figure size 432x288 with 1 Axes>"
      ]
     },
     "metadata": {
      "needs_background": "light"
     },
     "output_type": "display_data"
    }
   ],
   "source": [
    "# plot AUC\n",
    "plot_model(best, plot = 'auc')"
   ]
  },
  {
   "cell_type": "code",
   "execution_count": 78,
   "id": "e5a4ecca",
   "metadata": {},
   "outputs": [
    {
     "data": {
      "text/html": [],
      "text/plain": [
       "<IPython.core.display.HTML object>"
      ]
     },
     "metadata": {},
     "output_type": "display_data"
    },
    {
     "data": {
      "image/png": "[encoded data removed]",
      "text/plain": [
       "<Figure size 800x500 with 1 Axes>"
      ]
     },
     "metadata": {
      "needs_background": "light"
     },
     "output_type": "display_data"
    }
   ],
   "source": [
    "# plot feature importance\n",
    "plt.rc('font', family='NanumMyeongjo')\n",
    "plot_model(best, plot = 'feature')"
   ]
  },
  {
   "cell_type": "code",
   "execution_count": null,
   "id": "30d162d1",
   "metadata": {},
   "outputs": [],
   "source": []
  }
 ],
 "metadata": {
  "kernelspec": {
   "display_name": "Python 3",
   "language": "python",
   "name": "python3"
  },
  "language_info": {
   "codemirror_mode": {
    "name": "ipython",
    "version": 3
   },
   "file_extension": ".py",
   "mimetype": "text/x-python",
   "name": "python",
   "nbconvert_exporter": "python",
   "pygments_lexer": "ipython3",
   "version": "3.8.8"
  }
 },
 "nbformat": 4,
 "nbformat_minor": 5
}
